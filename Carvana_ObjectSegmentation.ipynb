{
 "cells": [
  {
   "cell_type": "markdown",
   "metadata": {},
   "source": [
    "## Реализая U-Net для задачи сегментации датасета Carvana c соревнования Kaggle."
   ]
  },
  {
   "cell_type": "code",
   "execution_count": 1,
   "metadata": {
    "collapsed": true
   },
   "outputs": [],
   "source": [
    "import torch\n",
    "import torch.nn as nn"
   ]
  },
  {
   "cell_type": "markdown",
   "metadata": {},
   "source": [
    "## 1. Определние модели."
   ]
  },
  {
   "cell_type": "code",
   "execution_count": 5,
   "metadata": {},
   "outputs": [],
   "source": [
    "import torch\n",
    "import torch.nn as nn\n",
    "def conv_bn_relu(in_planes, out_planes, kernel=3, stride=1, padding=1):\n",
    "    net = nn.Sequential(nn.Conv2d(in_planes, out_planes, kernel_size=kernel, stride=stride, padding=padding),\n",
    "                        nn.BatchNorm2d(num_features=out_planes),\n",
    "                        nn.ReLU(True))\n",
    "    return net\n",
    "\n",
    "def unet_block(in_planes, out_planes):\n",
    "    net = nn.Sequential(conv_bn_relu(in_planes, in_planes, kernel=3, stride=1, padding=1),\n",
    "                        conv_bn_relu(in_planes, in_planes, kernel=3, stride=1, padding=1), \n",
    "                        conv_bn_relu(in_planes, out_planes, kernel=3, stride=2, padding=1))\n",
    "    return net\n",
    "\n",
    "def unet_up_block(in_planes, out_planes, padding=0):\n",
    "    net = nn.Sequential(conv_bn_relu(in_planes, in_planes, kernel=3, stride=1, padding=1),\n",
    "                        conv_bn_relu(in_planes, in_planes, kernel=3, stride=1, padding=1),\n",
    "                        nn.ConvTranspose2d(in_planes, out_planes, kernel_size=3, stride=2, padding = padding))\n",
    "    return net\n",
    "\n",
    "class SegmenterModel(nn.Module):\n",
    "    def __init__(self, in_size=3):\n",
    "        super(SegmenterModel, self).__init__()\n",
    "\n",
    "        self.features = nn.Sequential()\n",
    "        \n",
    "        self.features.add_module(\"Downsample\",\n",
    "                                 conv_bn_relu(in_planes=in_size, out_planes=8, kernel=3, stride=2, padding=1))\n",
    "\n",
    "        self.features.add_module(\"Unet_block_1\", unet_block(8,16))\n",
    "            \n",
    "        self.features.add_module(\"Unet_block_2\", unet_block(16,32))\n",
    "        \n",
    "        self.features.add_module(\"Unet_up_block_2\", unet_up_block(32,16, 1))\n",
    "\n",
    "        self.features.add_module(\"Unet_up_block_3\", unet_up_block(16,8))\n",
    "\n",
    "        self.features.add_module(\"Unet_up_block_4\", unet_up_block(8,2))\n",
    "    \n",
    "    def forward(self, input, use_cuda):\n",
    "        res = self.features(input)\n",
    "        c1 = len(res[0][0]) - 1\n",
    "        res1 = res[:, :, c1, :].unsqueeze_(2)\n",
    "        res = torch.cat((res, res1), 2)\n",
    "        c2 = len(res[0][0][0]) - 1\n",
    "        res2 = res[:, :, :, c2].unsqueeze_(3)\n",
    "        res = torch.cat((res, res2), 3)\n",
    "        return res"
   ]
  },
  {
   "cell_type": "markdown",
   "metadata": {},
   "source": [
    "## 2.  Препроцессинг датасета."
   ]
  },
  {
   "cell_type": "code",
   "execution_count": 6,
   "metadata": {
    "collapsed": true
   },
   "outputs": [],
   "source": [
    "import torch.utils.data as dt\n",
    "import torch\n",
    "import os\n",
    "from PIL import Image\n",
    "import torchvision.transforms as transforms\n",
    "from torchvision.transforms import ToPILImage\n",
    "to_img = ToPILImage()\n",
    "\n",
    "\n",
    "class CarvanaDataset(dt.Dataset):\n",
    "    \"\"\" \n",
    "        Carvana features dataset.  Override torch Dataset class to implements reading from h5 files\n",
    "\n",
    "    \"\"\"\n",
    "\n",
    "    def __init__(self, data_path, mask_path, input_size=224):\n",
    "        \"\"\"\n",
    "        Args:\n",
    "            data_path (string): Path to the images data files.\n",
    "            mask_path (string): Path were images masks are placed\n",
    "        \"\"\"\n",
    "        self.files = os.listdir(data_path)\n",
    "        self.files.sort()\n",
    "        self.mask_files = os.listdir(mask_path)\n",
    "        self.mask_files.sort()\n",
    "        self.data_path = data_path\n",
    "        self.mask_path = mask_path\n",
    "        assert (len(self.files) == len(self.mask_files))\n",
    "        self.input_size = input_size\n",
    "\n",
    "        self.preprocess = transforms.Compose([\n",
    "            transforms.Scale((input_size, input_size)),\n",
    "            transforms.ToTensor()\n",
    "        ])\n",
    "\n",
    "    def __len__(self):\n",
    "        return len(self.files)\n",
    "\n",
    "    def pil_load(self, path, is_input=True):\n",
    "        # open path as file to avoid ResourceWarning (https://github.com/python-pillow/Pillow/issues/835)\n",
    "        with open(path, 'rb') as f:\n",
    "            with Image.open(f) as img:\n",
    "                return img.convert('RGB')\n",
    "\n",
    "    def pil_save(self, t, img_path):\n",
    "        a = to_img(t)\n",
    "        a.save(img_path, 'PNG')\n",
    "\n",
    "    def __getitem__(self, idx):\n",
    "        f_name = os.path.join(self.data_path, self.files[idx])\n",
    "        m_name = os.path.join(self.mask_path, self.mask_files[idx])\n",
    "\n",
    "        if os.path.exists(f_name) == False:\n",
    "            raise Exception('Missing file with name ' + f_name + ' in dataset')\n",
    "\n",
    "        input = self.pil_load(f_name)\n",
    "        target = self.pil_load(m_name, False)\n",
    "\n",
    "        input = self.preprocess(input)\n",
    "        target = self.preprocess(target)\n",
    "        target = torch.sum(target, dim=0).unsqueeze(0)\n",
    "        target[ torch.gt(target, 0) ] = 1\n",
    "\n",
    "        return input, target"
   ]
  },
  {
   "cell_type": "markdown",
   "metadata": {},
   "source": [
    "## 3. Обучение."
   ]
  },
  {
   "cell_type": "code",
   "execution_count": 7,
   "metadata": {},
   "outputs": [
    {
     "name": "stderr",
     "output_type": "stream",
     "text": [
      "/home/i.kobelev/anaconda/lib/python3.6/site-packages/torchvision-0.2.1-py3.6.egg/torchvision/transforms/transforms.py:188: UserWarning: The use of the transforms.Scale transform is deprecated, please use transforms.Resize instead.\n",
      "\r",
      "  0%|          | 0/916 [00:00<?, ?it/s]"
     ]
    },
    {
     "name": "stdout",
     "output_type": "stream",
     "text": [
      "Current epoch:  0\n"
     ]
    },
    {
     "name": "stderr",
     "output_type": "stream",
     "text": [
      "/home/i.kobelev/anaconda/lib/python3.6/site-packages/ipykernel/__main__.py:53: UserWarning: invalid index of a 0-dim tensor. This will be an error in PyTorch 0.5. Use tensor.item() to convert a 0-dim tensor to a Python number\n",
      "100%|██████████| 916/916 [01:46<00:00,  8.56it/s]\n",
      "  0%|          | 0/102 [00:00<?, ?it/s]"
     ]
    },
    {
     "name": "stdout",
     "output_type": "stream",
     "text": [
      "Epoch loss tensor(0.0506, device='cuda:0')\n",
      "Make test\n"
     ]
    },
    {
     "name": "stderr",
     "output_type": "stream",
     "text": [
      "/home/i.kobelev/anaconda/lib/python3.6/site-packages/ipykernel/__main__.py:65: UserWarning: volatile was removed and now has no effect. Use `with torch.no_grad():` instead.\n",
      "/home/i.kobelev/anaconda/lib/python3.6/site-packages/ipykernel/__main__.py:67: UserWarning: volatile was removed and now has no effect. Use `with torch.no_grad():` instead.\n",
      "/home/i.kobelev/anaconda/lib/python3.6/site-packages/ipykernel/__main__.py:73: UserWarning: invalid index of a 0-dim tensor. This will be an error in PyTorch 0.5. Use tensor.item() to convert a 0-dim tensor to a Python number\n",
      "100%|██████████| 102/102 [00:12<00:00,  8.13it/s]\n",
      "  0%|          | 0/916 [00:00<?, ?it/s]"
     ]
    },
    {
     "name": "stdout",
     "output_type": "stream",
     "text": [
      "Test loss tensor(0.0327, device='cuda:0')\n",
      "Current epoch:  1\n"
     ]
    },
    {
     "name": "stderr",
     "output_type": "stream",
     "text": [
      "100%|██████████| 916/916 [01:35<00:00,  9.62it/s]\n",
      "  0%|          | 0/102 [00:00<?, ?it/s]"
     ]
    },
    {
     "name": "stdout",
     "output_type": "stream",
     "text": [
      "Epoch loss tensor(0.0270, device='cuda:0')\n",
      "Make test\n"
     ]
    },
    {
     "name": "stderr",
     "output_type": "stream",
     "text": [
      "100%|██████████| 102/102 [00:11<00:00,  9.04it/s]\n",
      "  0%|          | 0/916 [00:00<?, ?it/s]"
     ]
    },
    {
     "name": "stdout",
     "output_type": "stream",
     "text": [
      "Test loss tensor(0.0229, device='cuda:0')\n",
      "Current epoch:  2\n"
     ]
    },
    {
     "name": "stderr",
     "output_type": "stream",
     "text": [
      "100%|██████████| 916/916 [01:36<00:00,  9.47it/s]\n",
      "  0%|          | 0/102 [00:00<?, ?it/s]"
     ]
    },
    {
     "name": "stdout",
     "output_type": "stream",
     "text": [
      "Epoch loss tensor(0.0227, device='cuda:0')\n",
      "Make test\n"
     ]
    },
    {
     "name": "stderr",
     "output_type": "stream",
     "text": [
      "100%|██████████| 102/102 [00:11<00:00,  8.31it/s]\n",
      "  0%|          | 0/916 [00:00<?, ?it/s]"
     ]
    },
    {
     "name": "stdout",
     "output_type": "stream",
     "text": [
      "Test loss tensor(0.0250, device='cuda:0')\n",
      "Current epoch:  3\n"
     ]
    },
    {
     "name": "stderr",
     "output_type": "stream",
     "text": [
      "100%|██████████| 916/916 [01:34<00:00,  8.63it/s]\n",
      "  0%|          | 0/102 [00:00<?, ?it/s]"
     ]
    },
    {
     "name": "stdout",
     "output_type": "stream",
     "text": [
      "Epoch loss tensor(0.0233, device='cuda:0')\n",
      "Make test\n"
     ]
    },
    {
     "name": "stderr",
     "output_type": "stream",
     "text": [
      "100%|██████████| 102/102 [00:11<00:00,  9.04it/s]\n",
      "  0%|          | 0/916 [00:00<?, ?it/s]"
     ]
    },
    {
     "name": "stdout",
     "output_type": "stream",
     "text": [
      "Test loss tensor(0.0337, device='cuda:0')\n",
      "Current epoch:  4\n"
     ]
    },
    {
     "name": "stderr",
     "output_type": "stream",
     "text": [
      "100%|██████████| 916/916 [01:34<00:00,  9.68it/s]\n",
      "  0%|          | 0/102 [00:00<?, ?it/s]"
     ]
    },
    {
     "name": "stdout",
     "output_type": "stream",
     "text": [
      "Epoch loss tensor(0.0260, device='cuda:0')\n",
      "Make test\n"
     ]
    },
    {
     "name": "stderr",
     "output_type": "stream",
     "text": [
      "100%|██████████| 102/102 [00:11<00:00,  9.12it/s]\n",
      "  0%|          | 0/916 [00:00<?, ?it/s]"
     ]
    },
    {
     "name": "stdout",
     "output_type": "stream",
     "text": [
      "Test loss tensor(0.0334, device='cuda:0')\n",
      "Current epoch:  5\n"
     ]
    },
    {
     "name": "stderr",
     "output_type": "stream",
     "text": [
      "100%|██████████| 916/916 [01:35<00:00,  9.62it/s]\n",
      "  0%|          | 0/102 [00:00<?, ?it/s]"
     ]
    },
    {
     "name": "stdout",
     "output_type": "stream",
     "text": [
      "Epoch loss tensor(0.0266, device='cuda:0')\n",
      "Make test\n"
     ]
    },
    {
     "name": "stderr",
     "output_type": "stream",
     "text": [
      "100%|██████████| 102/102 [00:10<00:00,  9.35it/s]\n",
      "  0%|          | 0/916 [00:00<?, ?it/s]"
     ]
    },
    {
     "name": "stdout",
     "output_type": "stream",
     "text": [
      "Test loss tensor(0.0199, device='cuda:0')\n",
      "Current epoch:  6\n"
     ]
    },
    {
     "name": "stderr",
     "output_type": "stream",
     "text": [
      "100%|██████████| 916/916 [01:34<00:00,  9.20it/s]\n",
      "  0%|          | 0/102 [00:00<?, ?it/s]"
     ]
    },
    {
     "name": "stdout",
     "output_type": "stream",
     "text": [
      "Epoch loss tensor(0.0283, device='cuda:0')\n",
      "Make test\n"
     ]
    },
    {
     "name": "stderr",
     "output_type": "stream",
     "text": [
      "100%|██████████| 102/102 [00:11<00:00,  8.81it/s]\n",
      "  0%|          | 0/916 [00:00<?, ?it/s]"
     ]
    },
    {
     "name": "stdout",
     "output_type": "stream",
     "text": [
      "Test loss tensor(0.0306, device='cuda:0')\n",
      "Current epoch:  7\n"
     ]
    },
    {
     "name": "stderr",
     "output_type": "stream",
     "text": [
      "100%|██████████| 916/916 [01:34<00:00, 10.10it/s]\n",
      "  0%|          | 0/102 [00:00<?, ?it/s]"
     ]
    },
    {
     "name": "stdout",
     "output_type": "stream",
     "text": [
      "Epoch loss tensor(0.0296, device='cuda:0')\n",
      "Make test\n"
     ]
    },
    {
     "name": "stderr",
     "output_type": "stream",
     "text": [
      "100%|██████████| 102/102 [00:11<00:00,  9.08it/s]\n",
      "  0%|          | 0/916 [00:00<?, ?it/s]"
     ]
    },
    {
     "name": "stdout",
     "output_type": "stream",
     "text": [
      "Test loss tensor(0.0383, device='cuda:0')\n",
      "Current epoch:  8\n"
     ]
    },
    {
     "name": "stderr",
     "output_type": "stream",
     "text": [
      "100%|██████████| 916/916 [01:34<00:00,  9.74it/s]\n",
      "  0%|          | 0/102 [00:00<?, ?it/s]"
     ]
    },
    {
     "name": "stdout",
     "output_type": "stream",
     "text": [
      "Epoch loss tensor(0.0267, device='cuda:0')\n",
      "Make test\n"
     ]
    },
    {
     "name": "stderr",
     "output_type": "stream",
     "text": [
      "100%|██████████| 102/102 [00:11<00:00,  8.77it/s]\n",
      "  0%|          | 0/916 [00:00<?, ?it/s]"
     ]
    },
    {
     "name": "stdout",
     "output_type": "stream",
     "text": [
      "Test loss tensor(0.0266, device='cuda:0')\n",
      "Current epoch:  9\n"
     ]
    },
    {
     "name": "stderr",
     "output_type": "stream",
     "text": [
      "100%|██████████| 916/916 [01:36<00:00,  8.37it/s]\n",
      "  0%|          | 0/102 [00:00<?, ?it/s]"
     ]
    },
    {
     "name": "stdout",
     "output_type": "stream",
     "text": [
      "Epoch loss tensor(0.0248, device='cuda:0')\n",
      "Make test\n"
     ]
    },
    {
     "name": "stderr",
     "output_type": "stream",
     "text": [
      "100%|██████████| 102/102 [00:11<00:00,  9.04it/s]\n",
      "  0%|          | 0/916 [00:00<?, ?it/s]"
     ]
    },
    {
     "name": "stdout",
     "output_type": "stream",
     "text": [
      "Test loss tensor(0.0260, device='cuda:0')\n",
      "Current epoch:  10\n"
     ]
    },
    {
     "name": "stderr",
     "output_type": "stream",
     "text": [
      "100%|██████████| 916/916 [01:34<00:00,  9.69it/s]\n",
      "  0%|          | 0/102 [00:00<?, ?it/s]"
     ]
    },
    {
     "name": "stdout",
     "output_type": "stream",
     "text": [
      "Epoch loss tensor(0.0258, device='cuda:0')\n",
      "Make test\n"
     ]
    },
    {
     "name": "stderr",
     "output_type": "stream",
     "text": [
      "100%|██████████| 102/102 [00:11<00:00,  8.96it/s]\n",
      "  0%|          | 0/916 [00:00<?, ?it/s]"
     ]
    },
    {
     "name": "stdout",
     "output_type": "stream",
     "text": [
      "Test loss tensor(0.0152, device='cuda:0')\n",
      "Current epoch:  11\n"
     ]
    },
    {
     "name": "stderr",
     "output_type": "stream",
     "text": [
      "100%|██████████| 916/916 [01:33<00:00,  9.76it/s]\n",
      "  0%|          | 0/102 [00:00<?, ?it/s]"
     ]
    },
    {
     "name": "stdout",
     "output_type": "stream",
     "text": [
      "Epoch loss tensor(0.0267, device='cuda:0')\n",
      "Make test\n"
     ]
    },
    {
     "name": "stderr",
     "output_type": "stream",
     "text": [
      "100%|██████████| 102/102 [00:11<00:00,  8.97it/s]\n",
      "  0%|          | 0/916 [00:00<?, ?it/s]"
     ]
    },
    {
     "name": "stdout",
     "output_type": "stream",
     "text": [
      "Test loss tensor(0.0252, device='cuda:0')\n",
      "Current epoch:  12\n"
     ]
    },
    {
     "name": "stderr",
     "output_type": "stream",
     "text": [
      "100%|██████████| 916/916 [01:34<00:00,  9.66it/s]\n",
      "  0%|          | 0/102 [00:00<?, ?it/s]"
     ]
    },
    {
     "name": "stdout",
     "output_type": "stream",
     "text": [
      "Epoch loss tensor(0.0274, device='cuda:0')\n",
      "Make test\n"
     ]
    },
    {
     "name": "stderr",
     "output_type": "stream",
     "text": [
      "100%|██████████| 102/102 [00:11<00:00,  8.59it/s]\n",
      "  0%|          | 0/916 [00:00<?, ?it/s]"
     ]
    },
    {
     "name": "stdout",
     "output_type": "stream",
     "text": [
      "Test loss tensor(0.0239, device='cuda:0')\n",
      "Current epoch:  13\n"
     ]
    },
    {
     "name": "stderr",
     "output_type": "stream",
     "text": [
      "100%|██████████| 916/916 [01:33<00:00,  9.77it/s]\n",
      "  0%|          | 0/102 [00:00<?, ?it/s]"
     ]
    },
    {
     "name": "stdout",
     "output_type": "stream",
     "text": [
      "Epoch loss tensor(0.0284, device='cuda:0')\n",
      "Make test\n"
     ]
    },
    {
     "name": "stderr",
     "output_type": "stream",
     "text": [
      "100%|██████████| 102/102 [00:10<00:00,  9.35it/s]\n",
      "  0%|          | 0/916 [00:00<?, ?it/s]"
     ]
    },
    {
     "name": "stdout",
     "output_type": "stream",
     "text": [
      "Test loss tensor(0.0298, device='cuda:0')\n",
      "Current epoch:  14\n"
     ]
    },
    {
     "name": "stderr",
     "output_type": "stream",
     "text": [
      "100%|██████████| 916/916 [01:36<00:00,  9.50it/s]\n",
      "  0%|          | 0/102 [00:00<?, ?it/s]"
     ]
    },
    {
     "name": "stdout",
     "output_type": "stream",
     "text": [
      "Epoch loss tensor(0.0282, device='cuda:0')\n",
      "Make test\n"
     ]
    },
    {
     "name": "stderr",
     "output_type": "stream",
     "text": [
      "100%|██████████| 102/102 [00:11<00:00,  9.18it/s]\n",
      "  0%|          | 0/916 [00:00<?, ?it/s]"
     ]
    },
    {
     "name": "stdout",
     "output_type": "stream",
     "text": [
      "Test loss tensor(0.0184, device='cuda:0')\n",
      "Current epoch:  15\n"
     ]
    },
    {
     "name": "stderr",
     "output_type": "stream",
     "text": [
      "100%|██████████| 916/916 [01:34<00:00,  8.62it/s]\n",
      "  0%|          | 0/102 [00:00<?, ?it/s]"
     ]
    },
    {
     "name": "stdout",
     "output_type": "stream",
     "text": [
      "Epoch loss tensor(0.0308, device='cuda:0')\n",
      "Make test\n"
     ]
    },
    {
     "name": "stderr",
     "output_type": "stream",
     "text": [
      "100%|██████████| 102/102 [00:11<00:00,  8.99it/s]\n",
      "  0%|          | 0/916 [00:00<?, ?it/s]"
     ]
    },
    {
     "name": "stdout",
     "output_type": "stream",
     "text": [
      "Test loss tensor(0.0228, device='cuda:0')\n",
      "Current epoch:  16\n"
     ]
    },
    {
     "name": "stderr",
     "output_type": "stream",
     "text": [
      "100%|██████████| 916/916 [01:35<00:00,  9.61it/s]\n",
      "  0%|          | 0/102 [00:00<?, ?it/s]"
     ]
    },
    {
     "name": "stdout",
     "output_type": "stream",
     "text": [
      "Epoch loss tensor(0.0297, device='cuda:0')\n",
      "Make test\n"
     ]
    },
    {
     "name": "stderr",
     "output_type": "stream",
     "text": [
      "100%|██████████| 102/102 [00:11<00:00, 11.39it/s]\n",
      "  0%|          | 0/916 [00:00<?, ?it/s]"
     ]
    },
    {
     "name": "stdout",
     "output_type": "stream",
     "text": [
      "Test loss tensor(0.0184, device='cuda:0')\n",
      "Current epoch:  17\n"
     ]
    },
    {
     "name": "stderr",
     "output_type": "stream",
     "text": [
      "100%|██████████| 916/916 [01:34<00:00,  9.69it/s]\n",
      "  0%|          | 0/102 [00:00<?, ?it/s]"
     ]
    },
    {
     "name": "stdout",
     "output_type": "stream",
     "text": [
      "Epoch loss tensor(0.0265, device='cuda:0')\n",
      "Make test\n"
     ]
    },
    {
     "name": "stderr",
     "output_type": "stream",
     "text": [
      "100%|██████████| 102/102 [00:11<00:00,  9.22it/s]\n",
      "  0%|          | 0/916 [00:00<?, ?it/s]"
     ]
    },
    {
     "name": "stdout",
     "output_type": "stream",
     "text": [
      "Test loss tensor(0.0254, device='cuda:0')\n",
      "Current epoch:  18\n"
     ]
    },
    {
     "name": "stderr",
     "output_type": "stream",
     "text": [
      "100%|██████████| 916/916 [01:33<00:00,  9.78it/s]\n",
      "  0%|          | 0/102 [00:00<?, ?it/s]"
     ]
    },
    {
     "name": "stdout",
     "output_type": "stream",
     "text": [
      "Epoch loss tensor(0.0340, device='cuda:0')\n",
      "Make test\n"
     ]
    },
    {
     "name": "stderr",
     "output_type": "stream",
     "text": [
      "100%|██████████| 102/102 [00:11<00:00,  9.07it/s]\n",
      "  0%|          | 0/916 [00:00<?, ?it/s]"
     ]
    },
    {
     "name": "stdout",
     "output_type": "stream",
     "text": [
      "Test loss tensor(0.0247, device='cuda:0')\n",
      "Current epoch:  19\n"
     ]
    },
    {
     "name": "stderr",
     "output_type": "stream",
     "text": [
      "100%|██████████| 916/916 [01:35<00:00, 10.20it/s]\n",
      "  0%|          | 0/102 [00:00<?, ?it/s]"
     ]
    },
    {
     "name": "stdout",
     "output_type": "stream",
     "text": [
      "Epoch loss tensor(0.0297, device='cuda:0')\n",
      "Make test\n"
     ]
    },
    {
     "name": "stderr",
     "output_type": "stream",
     "text": [
      "100%|██████████| 102/102 [00:11<00:00, 10.64it/s]\n",
      "  0%|          | 0/916 [00:00<?, ?it/s]"
     ]
    },
    {
     "name": "stdout",
     "output_type": "stream",
     "text": [
      "Test loss tensor(0.0233, device='cuda:0')\n",
      "Current epoch:  20\n"
     ]
    },
    {
     "name": "stderr",
     "output_type": "stream",
     "text": [
      "100%|██████████| 916/916 [01:33<00:00,  9.78it/s]\n",
      "  0%|          | 0/102 [00:00<?, ?it/s]"
     ]
    },
    {
     "name": "stdout",
     "output_type": "stream",
     "text": [
      "Epoch loss tensor(0.0250, device='cuda:0')\n",
      "Make test\n"
     ]
    },
    {
     "name": "stderr",
     "output_type": "stream",
     "text": [
      "100%|██████████| 102/102 [00:11<00:00,  9.15it/s]\n",
      "  0%|          | 0/916 [00:00<?, ?it/s]"
     ]
    },
    {
     "name": "stdout",
     "output_type": "stream",
     "text": [
      "Test loss tensor(0.0193, device='cuda:0')\n",
      "Current epoch:  21\n"
     ]
    },
    {
     "name": "stderr",
     "output_type": "stream",
     "text": [
      "100%|██████████| 916/916 [01:33<00:00,  9.78it/s]\n",
      "  0%|          | 0/102 [00:00<?, ?it/s]"
     ]
    },
    {
     "name": "stdout",
     "output_type": "stream",
     "text": [
      "Epoch loss tensor(0.0258, device='cuda:0')\n",
      "Make test\n"
     ]
    },
    {
     "name": "stderr",
     "output_type": "stream",
     "text": [
      "100%|██████████| 102/102 [00:11<00:00,  9.09it/s]\n",
      "  0%|          | 0/916 [00:00<?, ?it/s]"
     ]
    },
    {
     "name": "stdout",
     "output_type": "stream",
     "text": [
      "Test loss tensor(0.0320, device='cuda:0')\n",
      "Current epoch:  22\n"
     ]
    },
    {
     "name": "stderr",
     "output_type": "stream",
     "text": [
      "100%|██████████| 916/916 [01:34<00:00,  9.73it/s]\n",
      "  0%|          | 0/102 [00:00<?, ?it/s]"
     ]
    },
    {
     "name": "stdout",
     "output_type": "stream",
     "text": [
      "Epoch loss tensor(0.0259, device='cuda:0')\n",
      "Make test\n"
     ]
    },
    {
     "name": "stderr",
     "output_type": "stream",
     "text": [
      "100%|██████████| 102/102 [00:11<00:00,  9.95it/s]\n",
      "  0%|          | 0/916 [00:00<?, ?it/s]"
     ]
    },
    {
     "name": "stdout",
     "output_type": "stream",
     "text": [
      "Test loss tensor(0.0194, device='cuda:0')\n",
      "Current epoch:  23\n"
     ]
    },
    {
     "name": "stderr",
     "output_type": "stream",
     "text": [
      "100%|██████████| 916/916 [01:33<00:00,  9.75it/s]\n",
      "  0%|          | 0/102 [00:00<?, ?it/s]"
     ]
    },
    {
     "name": "stdout",
     "output_type": "stream",
     "text": [
      "Epoch loss tensor(0.0222, device='cuda:0')\n",
      "Make test\n"
     ]
    },
    {
     "name": "stderr",
     "output_type": "stream",
     "text": [
      "100%|██████████| 102/102 [00:11<00:00,  9.03it/s]\n",
      "  0%|          | 0/916 [00:00<?, ?it/s]"
     ]
    },
    {
     "name": "stdout",
     "output_type": "stream",
     "text": [
      "Test loss tensor(0.0120, device='cuda:0')\n",
      "Current epoch:  24\n"
     ]
    },
    {
     "name": "stderr",
     "output_type": "stream",
     "text": [
      "100%|██████████| 916/916 [01:34<00:00,  7.63it/s]\n",
      "  0%|          | 0/102 [00:00<?, ?it/s]"
     ]
    },
    {
     "name": "stdout",
     "output_type": "stream",
     "text": [
      "Epoch loss tensor(0.0180, device='cuda:0')\n",
      "Make test\n"
     ]
    },
    {
     "name": "stderr",
     "output_type": "stream",
     "text": [
      "100%|██████████| 102/102 [00:11<00:00, 11.01it/s]\n",
      "  0%|          | 0/916 [00:00<?, ?it/s]"
     ]
    },
    {
     "name": "stdout",
     "output_type": "stream",
     "text": [
      "Test loss tensor(0.0200, device='cuda:0')\n",
      "Current epoch:  25\n"
     ]
    },
    {
     "name": "stderr",
     "output_type": "stream",
     "text": [
      "100%|██████████| 916/916 [01:35<00:00,  8.50it/s]\n",
      "  0%|          | 0/102 [00:00<?, ?it/s]"
     ]
    },
    {
     "name": "stdout",
     "output_type": "stream",
     "text": [
      "Epoch loss tensor(0.0215, device='cuda:0')\n",
      "Make test\n"
     ]
    },
    {
     "name": "stderr",
     "output_type": "stream",
     "text": [
      "100%|██████████| 102/102 [00:11<00:00,  8.72it/s]\n",
      "  0%|          | 0/916 [00:00<?, ?it/s]"
     ]
    },
    {
     "name": "stdout",
     "output_type": "stream",
     "text": [
      "Test loss tensor(0.0254, device='cuda:0')\n",
      "Current epoch:  26\n"
     ]
    },
    {
     "name": "stderr",
     "output_type": "stream",
     "text": [
      "100%|██████████| 916/916 [01:35<00:00,  9.60it/s]\n",
      "  0%|          | 0/102 [00:00<?, ?it/s]"
     ]
    },
    {
     "name": "stdout",
     "output_type": "stream",
     "text": [
      "Epoch loss tensor(0.0216, device='cuda:0')\n",
      "Make test\n"
     ]
    },
    {
     "name": "stderr",
     "output_type": "stream",
     "text": [
      "100%|██████████| 102/102 [00:11<00:00,  8.74it/s]\n",
      "  0%|          | 0/916 [00:00<?, ?it/s]"
     ]
    },
    {
     "name": "stdout",
     "output_type": "stream",
     "text": [
      "Test loss tensor(0.0175, device='cuda:0')\n",
      "Current epoch:  27\n"
     ]
    },
    {
     "name": "stderr",
     "output_type": "stream",
     "text": [
      "100%|██████████| 916/916 [01:33<00:00,  9.79it/s]\n",
      "  0%|          | 0/102 [00:00<?, ?it/s]"
     ]
    },
    {
     "name": "stdout",
     "output_type": "stream",
     "text": [
      "Epoch loss tensor(0.0161, device='cuda:0')\n",
      "Make test\n"
     ]
    },
    {
     "name": "stderr",
     "output_type": "stream",
     "text": [
      "100%|██████████| 102/102 [00:11<00:00,  9.07it/s]\n",
      "  0%|          | 0/916 [00:00<?, ?it/s]"
     ]
    },
    {
     "name": "stdout",
     "output_type": "stream",
     "text": [
      "Test loss tensor(0.0123, device='cuda:0')\n",
      "Current epoch:  28\n"
     ]
    },
    {
     "name": "stderr",
     "output_type": "stream",
     "text": [
      "100%|██████████| 916/916 [01:34<00:00,  9.73it/s]\n",
      "  0%|          | 0/102 [00:00<?, ?it/s]"
     ]
    },
    {
     "name": "stdout",
     "output_type": "stream",
     "text": [
      "Epoch loss tensor(0.0147, device='cuda:0')\n",
      "Make test\n"
     ]
    },
    {
     "name": "stderr",
     "output_type": "stream",
     "text": [
      "100%|██████████| 102/102 [00:11<00:00,  9.23it/s]\n",
      "  0%|          | 0/916 [00:00<?, ?it/s]"
     ]
    },
    {
     "name": "stdout",
     "output_type": "stream",
     "text": [
      "Test loss tensor(0.0151, device='cuda:0')\n",
      "Current epoch:  29\n"
     ]
    },
    {
     "name": "stderr",
     "output_type": "stream",
     "text": [
      "100%|██████████| 916/916 [01:34<00:00,  9.65it/s]\n",
      "  0%|          | 0/102 [00:00<?, ?it/s]"
     ]
    },
    {
     "name": "stdout",
     "output_type": "stream",
     "text": [
      "Epoch loss tensor(0.0160, device='cuda:0')\n",
      "Make test\n"
     ]
    },
    {
     "name": "stderr",
     "output_type": "stream",
     "text": [
      "100%|██████████| 102/102 [00:11<00:00,  9.10it/s]\n",
      "  0%|          | 0/916 [00:00<?, ?it/s]"
     ]
    },
    {
     "name": "stdout",
     "output_type": "stream",
     "text": [
      "Test loss tensor(0.0191, device='cuda:0')\n",
      "Current epoch:  30\n"
     ]
    },
    {
     "name": "stderr",
     "output_type": "stream",
     "text": [
      "100%|██████████| 916/916 [01:33<00:00,  9.78it/s]\n",
      "  0%|          | 0/102 [00:00<?, ?it/s]"
     ]
    },
    {
     "name": "stdout",
     "output_type": "stream",
     "text": [
      "Epoch loss tensor(0.0217, device='cuda:0')\n",
      "Make test\n"
     ]
    },
    {
     "name": "stderr",
     "output_type": "stream",
     "text": [
      "100%|██████████| 102/102 [00:12<00:00, 10.44it/s]\n",
      "  0%|          | 0/916 [00:00<?, ?it/s]"
     ]
    },
    {
     "name": "stdout",
     "output_type": "stream",
     "text": [
      "Test loss tensor(0.0215, device='cuda:0')\n",
      "Current epoch:  31\n"
     ]
    },
    {
     "name": "stderr",
     "output_type": "stream",
     "text": [
      "100%|██████████| 916/916 [01:34<00:00,  9.73it/s]\n",
      "  0%|          | 0/102 [00:00<?, ?it/s]"
     ]
    },
    {
     "name": "stdout",
     "output_type": "stream",
     "text": [
      "Epoch loss tensor(0.0174, device='cuda:0')\n",
      "Make test\n"
     ]
    },
    {
     "name": "stderr",
     "output_type": "stream",
     "text": [
      "100%|██████████| 102/102 [00:11<00:00,  8.94it/s]\n",
      "  0%|          | 0/916 [00:00<?, ?it/s]"
     ]
    },
    {
     "name": "stdout",
     "output_type": "stream",
     "text": [
      "Test loss tensor(0.0143, device='cuda:0')\n",
      "Current epoch:  32\n"
     ]
    },
    {
     "name": "stderr",
     "output_type": "stream",
     "text": [
      "100%|██████████| 916/916 [01:34<00:00,  9.69it/s]\n",
      "  0%|          | 0/102 [00:00<?, ?it/s]"
     ]
    },
    {
     "name": "stdout",
     "output_type": "stream",
     "text": [
      "Epoch loss tensor(0.0138, device='cuda:0')\n",
      "Make test\n"
     ]
    },
    {
     "name": "stderr",
     "output_type": "stream",
     "text": [
      "100%|██████████| 102/102 [00:11<00:00,  9.22it/s]\n",
      "  0%|          | 0/916 [00:00<?, ?it/s]"
     ]
    },
    {
     "name": "stdout",
     "output_type": "stream",
     "text": [
      "Test loss tensor(0.0123, device='cuda:0')\n",
      "Current epoch:  33\n"
     ]
    },
    {
     "name": "stderr",
     "output_type": "stream",
     "text": [
      "100%|██████████| 916/916 [01:35<00:00,  9.60it/s]\n",
      "  0%|          | 0/102 [00:00<?, ?it/s]"
     ]
    },
    {
     "name": "stdout",
     "output_type": "stream",
     "text": [
      "Epoch loss tensor(0.0144, device='cuda:0')\n",
      "Make test\n"
     ]
    },
    {
     "name": "stderr",
     "output_type": "stream",
     "text": [
      "100%|██████████| 102/102 [00:11<00:00,  9.27it/s]\n",
      "  0%|          | 0/916 [00:00<?, ?it/s]"
     ]
    },
    {
     "name": "stdout",
     "output_type": "stream",
     "text": [
      "Test loss tensor(0.0126, device='cuda:0')\n",
      "Current epoch:  34\n"
     ]
    },
    {
     "name": "stderr",
     "output_type": "stream",
     "text": [
      "100%|██████████| 916/916 [01:36<00:00,  9.50it/s]\n",
      "  0%|          | 0/102 [00:00<?, ?it/s]"
     ]
    },
    {
     "name": "stdout",
     "output_type": "stream",
     "text": [
      "Epoch loss tensor(0.0135, device='cuda:0')\n",
      "Make test\n"
     ]
    },
    {
     "name": "stderr",
     "output_type": "stream",
     "text": [
      "100%|██████████| 102/102 [00:10<00:00,  9.80it/s]\n",
      "  0%|          | 0/916 [00:00<?, ?it/s]"
     ]
    },
    {
     "name": "stdout",
     "output_type": "stream",
     "text": [
      "Test loss tensor(0.0126, device='cuda:0')\n",
      "Current epoch:  35\n"
     ]
    },
    {
     "name": "stderr",
     "output_type": "stream",
     "text": [
      "100%|██████████| 916/916 [01:33<00:00,  9.85it/s]\n",
      "  0%|          | 0/102 [00:00<?, ?it/s]"
     ]
    },
    {
     "name": "stdout",
     "output_type": "stream",
     "text": [
      "Epoch loss tensor(0.0134, device='cuda:0')\n",
      "Make test\n"
     ]
    },
    {
     "name": "stderr",
     "output_type": "stream",
     "text": [
      "100%|██████████| 102/102 [00:11<00:00,  8.98it/s]\n",
      "  0%|          | 0/916 [00:00<?, ?it/s]"
     ]
    },
    {
     "name": "stdout",
     "output_type": "stream",
     "text": [
      "Test loss tensor(0.0114, device='cuda:0')\n",
      "Current epoch:  36\n"
     ]
    },
    {
     "name": "stderr",
     "output_type": "stream",
     "text": [
      "100%|██████████| 916/916 [01:33<00:00,  9.77it/s]\n",
      "  0%|          | 0/102 [00:00<?, ?it/s]"
     ]
    },
    {
     "name": "stdout",
     "output_type": "stream",
     "text": [
      "Epoch loss tensor(0.0142, device='cuda:0')\n",
      "Make test\n"
     ]
    },
    {
     "name": "stderr",
     "output_type": "stream",
     "text": [
      "100%|██████████| 102/102 [00:10<00:00,  9.30it/s]\n",
      "  0%|          | 0/916 [00:00<?, ?it/s]"
     ]
    },
    {
     "name": "stdout",
     "output_type": "stream",
     "text": [
      "Test loss tensor(0.0133, device='cuda:0')\n",
      "Current epoch:  37\n"
     ]
    },
    {
     "name": "stderr",
     "output_type": "stream",
     "text": [
      "100%|██████████| 916/916 [01:35<00:00,  9.63it/s]\n",
      "  0%|          | 0/102 [00:00<?, ?it/s]"
     ]
    },
    {
     "name": "stdout",
     "output_type": "stream",
     "text": [
      "Epoch loss tensor(0.0145, device='cuda:0')\n",
      "Make test\n"
     ]
    },
    {
     "name": "stderr",
     "output_type": "stream",
     "text": [
      "100%|██████████| 102/102 [00:11<00:00,  9.19it/s]\n",
      "  0%|          | 0/916 [00:00<?, ?it/s]"
     ]
    },
    {
     "name": "stdout",
     "output_type": "stream",
     "text": [
      "Test loss tensor(0.0120, device='cuda:0')\n",
      "Current epoch:  38\n"
     ]
    },
    {
     "name": "stderr",
     "output_type": "stream",
     "text": [
      "100%|██████████| 916/916 [01:35<00:00,  9.67it/s]\n",
      "  0%|          | 0/102 [00:00<?, ?it/s]"
     ]
    },
    {
     "name": "stdout",
     "output_type": "stream",
     "text": [
      "Epoch loss tensor(0.0149, device='cuda:0')\n",
      "Make test\n"
     ]
    },
    {
     "name": "stderr",
     "output_type": "stream",
     "text": [
      "100%|██████████| 102/102 [00:11<00:00,  9.13it/s]\n",
      "  0%|          | 0/916 [00:00<?, ?it/s]"
     ]
    },
    {
     "name": "stdout",
     "output_type": "stream",
     "text": [
      "Test loss tensor(0.0141, device='cuda:0')\n",
      "Current epoch:  39\n"
     ]
    },
    {
     "name": "stderr",
     "output_type": "stream",
     "text": [
      "100%|██████████| 916/916 [01:35<00:00,  9.61it/s]\n",
      "  0%|          | 0/102 [00:00<?, ?it/s]"
     ]
    },
    {
     "name": "stdout",
     "output_type": "stream",
     "text": [
      "Epoch loss tensor(0.0147, device='cuda:0')\n",
      "Make test\n"
     ]
    },
    {
     "name": "stderr",
     "output_type": "stream",
     "text": [
      "100%|██████████| 102/102 [00:11<00:00,  8.91it/s]\n",
      "  0%|          | 0/916 [00:00<?, ?it/s]"
     ]
    },
    {
     "name": "stdout",
     "output_type": "stream",
     "text": [
      "Test loss tensor(0.0157, device='cuda:0')\n",
      "Current epoch:  40\n"
     ]
    },
    {
     "name": "stderr",
     "output_type": "stream",
     "text": [
      "100%|██████████| 916/916 [01:36<00:00,  9.94it/s]\n",
      "  0%|          | 0/102 [00:00<?, ?it/s]"
     ]
    },
    {
     "name": "stdout",
     "output_type": "stream",
     "text": [
      "Epoch loss tensor(0.0136, device='cuda:0')\n",
      "Make test\n"
     ]
    },
    {
     "name": "stderr",
     "output_type": "stream",
     "text": [
      "100%|██████████| 102/102 [00:11<00:00,  9.00it/s]\n",
      "  0%|          | 0/916 [00:00<?, ?it/s]"
     ]
    },
    {
     "name": "stdout",
     "output_type": "stream",
     "text": [
      "Test loss tensor(0.0111, device='cuda:0')\n",
      "Current epoch:  41\n"
     ]
    },
    {
     "name": "stderr",
     "output_type": "stream",
     "text": [
      "100%|██████████| 916/916 [01:36<00:00,  9.50it/s]\n",
      "  0%|          | 0/102 [00:00<?, ?it/s]"
     ]
    },
    {
     "name": "stdout",
     "output_type": "stream",
     "text": [
      "Epoch loss tensor(0.0117, device='cuda:0')\n",
      "Make test\n"
     ]
    },
    {
     "name": "stderr",
     "output_type": "stream",
     "text": [
      "100%|██████████| 102/102 [00:11<00:00, 11.30it/s]\n",
      "  0%|          | 0/916 [00:00<?, ?it/s]"
     ]
    },
    {
     "name": "stdout",
     "output_type": "stream",
     "text": [
      "Test loss tensor(0.0083, device='cuda:0')\n",
      "Current epoch:  42\n"
     ]
    },
    {
     "name": "stderr",
     "output_type": "stream",
     "text": [
      "100%|██████████| 916/916 [01:35<00:00,  9.55it/s]\n",
      "  0%|          | 0/102 [00:00<?, ?it/s]"
     ]
    },
    {
     "name": "stdout",
     "output_type": "stream",
     "text": [
      "Epoch loss tensor(0.0105, device='cuda:0')\n",
      "Make test\n"
     ]
    },
    {
     "name": "stderr",
     "output_type": "stream",
     "text": [
      "100%|██████████| 102/102 [00:11<00:00,  8.81it/s]\n",
      "  0%|          | 0/916 [00:00<?, ?it/s]"
     ]
    },
    {
     "name": "stdout",
     "output_type": "stream",
     "text": [
      "Test loss tensor(0.0098, device='cuda:0')\n",
      "Current epoch:  43\n"
     ]
    },
    {
     "name": "stderr",
     "output_type": "stream",
     "text": [
      "100%|██████████| 916/916 [01:34<00:00,  9.64it/s]\n",
      "  0%|          | 0/102 [00:00<?, ?it/s]"
     ]
    },
    {
     "name": "stdout",
     "output_type": "stream",
     "text": [
      "Epoch loss tensor(0.0118, device='cuda:0')\n",
      "Make test\n"
     ]
    },
    {
     "name": "stderr",
     "output_type": "stream",
     "text": [
      "100%|██████████| 102/102 [00:11<00:00, 10.29it/s]\n",
      "  0%|          | 0/916 [00:00<?, ?it/s]"
     ]
    },
    {
     "name": "stdout",
     "output_type": "stream",
     "text": [
      "Test loss tensor(0.0094, device='cuda:0')\n",
      "Current epoch:  44\n"
     ]
    },
    {
     "name": "stderr",
     "output_type": "stream",
     "text": [
      "100%|██████████| 916/916 [01:37<00:00,  9.40it/s]\n",
      "  0%|          | 0/102 [00:00<?, ?it/s]"
     ]
    },
    {
     "name": "stdout",
     "output_type": "stream",
     "text": [
      "Epoch loss tensor(0.0153, device='cuda:0')\n",
      "Make test\n"
     ]
    },
    {
     "name": "stderr",
     "output_type": "stream",
     "text": [
      "100%|██████████| 102/102 [00:11<00:00,  9.08it/s]\n",
      "  0%|          | 0/916 [00:00<?, ?it/s]"
     ]
    },
    {
     "name": "stdout",
     "output_type": "stream",
     "text": [
      "Test loss tensor(0.0178, device='cuda:0')\n",
      "Current epoch:  45\n"
     ]
    },
    {
     "name": "stderr",
     "output_type": "stream",
     "text": [
      "100%|██████████| 916/916 [01:37<00:00,  9.43it/s]\n",
      "  0%|          | 0/102 [00:00<?, ?it/s]"
     ]
    },
    {
     "name": "stdout",
     "output_type": "stream",
     "text": [
      "Epoch loss tensor(0.0174, device='cuda:0')\n",
      "Make test\n"
     ]
    },
    {
     "name": "stderr",
     "output_type": "stream",
     "text": [
      "100%|██████████| 102/102 [00:11<00:00,  8.81it/s]\n",
      "  0%|          | 0/916 [00:00<?, ?it/s]"
     ]
    },
    {
     "name": "stdout",
     "output_type": "stream",
     "text": [
      "Test loss tensor(0.0126, device='cuda:0')\n",
      "Current epoch:  46\n"
     ]
    },
    {
     "name": "stderr",
     "output_type": "stream",
     "text": [
      "100%|██████████| 916/916 [01:41<00:00,  9.54it/s]\n",
      "  0%|          | 0/102 [00:00<?, ?it/s]"
     ]
    },
    {
     "name": "stdout",
     "output_type": "stream",
     "text": [
      "Epoch loss tensor(0.0182, device='cuda:0')\n",
      "Make test\n"
     ]
    },
    {
     "name": "stderr",
     "output_type": "stream",
     "text": [
      "100%|██████████| 102/102 [00:12<00:00,  9.85it/s]\n",
      "  0%|          | 0/916 [00:00<?, ?it/s]"
     ]
    },
    {
     "name": "stdout",
     "output_type": "stream",
     "text": [
      "Test loss tensor(0.0201, device='cuda:0')\n",
      "Current epoch:  47\n"
     ]
    },
    {
     "name": "stderr",
     "output_type": "stream",
     "text": [
      "100%|██████████| 916/916 [01:41<00:00,  8.99it/s]\n",
      "  0%|          | 0/102 [00:00<?, ?it/s]"
     ]
    },
    {
     "name": "stdout",
     "output_type": "stream",
     "text": [
      "Epoch loss tensor(0.0178, device='cuda:0')\n",
      "Make test\n"
     ]
    },
    {
     "name": "stderr",
     "output_type": "stream",
     "text": [
      "100%|██████████| 102/102 [00:12<00:00,  8.56it/s]\n",
      "  0%|          | 0/916 [00:00<?, ?it/s]"
     ]
    },
    {
     "name": "stdout",
     "output_type": "stream",
     "text": [
      "Test loss tensor(0.0161, device='cuda:0')\n",
      "Current epoch:  48\n"
     ]
    },
    {
     "name": "stderr",
     "output_type": "stream",
     "text": [
      "100%|██████████| 916/916 [01:41<00:00,  9.57it/s]\n",
      "  0%|          | 0/102 [00:00<?, ?it/s]"
     ]
    },
    {
     "name": "stdout",
     "output_type": "stream",
     "text": [
      "Epoch loss tensor(0.0221, device='cuda:0')\n",
      "Make test\n"
     ]
    },
    {
     "name": "stderr",
     "output_type": "stream",
     "text": [
      "100%|██████████| 102/102 [00:12<00:00,  8.48it/s]\n",
      "  0%|          | 0/916 [00:00<?, ?it/s]"
     ]
    },
    {
     "name": "stdout",
     "output_type": "stream",
     "text": [
      "Test loss tensor(0.0174, device='cuda:0')\n",
      "Current epoch:  49\n"
     ]
    },
    {
     "name": "stderr",
     "output_type": "stream",
     "text": [
      "100%|██████████| 916/916 [01:41<00:00,  8.94it/s]\n",
      "  0%|          | 0/102 [00:00<?, ?it/s]"
     ]
    },
    {
     "name": "stdout",
     "output_type": "stream",
     "text": [
      "Epoch loss tensor(0.0213, device='cuda:0')\n",
      "Make test\n"
     ]
    },
    {
     "name": "stderr",
     "output_type": "stream",
     "text": [
      "100%|██████████| 102/102 [00:11<00:00,  8.60it/s]\n",
      "  0%|          | 0/916 [00:00<?, ?it/s]"
     ]
    },
    {
     "name": "stdout",
     "output_type": "stream",
     "text": [
      "Test loss tensor(0.0353, device='cuda:0')\n",
      "Current epoch:  50\n"
     ]
    },
    {
     "name": "stderr",
     "output_type": "stream",
     "text": [
      "100%|██████████| 916/916 [01:44<00:00,  8.76it/s]\n",
      "  0%|          | 0/102 [00:00<?, ?it/s]"
     ]
    },
    {
     "name": "stdout",
     "output_type": "stream",
     "text": [
      "Epoch loss tensor(0.0225, device='cuda:0')\n",
      "Make test\n"
     ]
    },
    {
     "name": "stderr",
     "output_type": "stream",
     "text": [
      "100%|██████████| 102/102 [00:12<00:00,  8.31it/s]\n",
      "  0%|          | 0/916 [00:00<?, ?it/s]"
     ]
    },
    {
     "name": "stdout",
     "output_type": "stream",
     "text": [
      "Test loss tensor(0.0268, device='cuda:0')\n",
      "Current epoch:  51\n"
     ]
    },
    {
     "name": "stderr",
     "output_type": "stream",
     "text": [
      "100%|██████████| 916/916 [01:41<00:00,  8.99it/s]\n",
      "  0%|          | 0/102 [00:00<?, ?it/s]"
     ]
    },
    {
     "name": "stdout",
     "output_type": "stream",
     "text": [
      "Epoch loss tensor(0.0251, device='cuda:0')\n",
      "Make test\n"
     ]
    },
    {
     "name": "stderr",
     "output_type": "stream",
     "text": [
      "100%|██████████| 102/102 [00:11<00:00,  8.77it/s]\n",
      "  0%|          | 0/916 [00:00<?, ?it/s]"
     ]
    },
    {
     "name": "stdout",
     "output_type": "stream",
     "text": [
      "Test loss tensor(0.0318, device='cuda:0')\n",
      "Current epoch:  52\n"
     ]
    },
    {
     "name": "stderr",
     "output_type": "stream",
     "text": [
      "100%|██████████| 916/916 [01:43<00:00,  8.13it/s]\n",
      "  0%|          | 0/102 [00:00<?, ?it/s]"
     ]
    },
    {
     "name": "stdout",
     "output_type": "stream",
     "text": [
      "Epoch loss tensor(0.0250, device='cuda:0')\n",
      "Make test\n"
     ]
    },
    {
     "name": "stderr",
     "output_type": "stream",
     "text": [
      "100%|██████████| 102/102 [00:12<00:00,  8.24it/s]\n",
      "  0%|          | 0/916 [00:00<?, ?it/s]"
     ]
    },
    {
     "name": "stdout",
     "output_type": "stream",
     "text": [
      "Test loss tensor(0.0238, device='cuda:0')\n",
      "Current epoch:  53\n"
     ]
    },
    {
     "name": "stderr",
     "output_type": "stream",
     "text": [
      "100%|██████████| 916/916 [01:46<00:00,  8.64it/s]\n",
      "  0%|          | 0/102 [00:00<?, ?it/s]"
     ]
    },
    {
     "name": "stdout",
     "output_type": "stream",
     "text": [
      "Epoch loss tensor(0.0210, device='cuda:0')\n",
      "Make test\n"
     ]
    },
    {
     "name": "stderr",
     "output_type": "stream",
     "text": [
      "100%|██████████| 102/102 [00:12<00:00,  8.48it/s]\n",
      "  0%|          | 0/916 [00:00<?, ?it/s]"
     ]
    },
    {
     "name": "stdout",
     "output_type": "stream",
     "text": [
      "Test loss tensor(0.0246, device='cuda:0')\n",
      "Current epoch:  54\n"
     ]
    },
    {
     "name": "stderr",
     "output_type": "stream",
     "text": [
      "100%|██████████| 916/916 [01:41<00:00,  9.06it/s]\n",
      "  0%|          | 0/102 [00:00<?, ?it/s]"
     ]
    },
    {
     "name": "stdout",
     "output_type": "stream",
     "text": [
      "Epoch loss tensor(0.0232, device='cuda:0')\n",
      "Make test\n"
     ]
    },
    {
     "name": "stderr",
     "output_type": "stream",
     "text": [
      "100%|██████████| 102/102 [00:11<00:00,  8.85it/s]\n",
      "  0%|          | 0/916 [00:00<?, ?it/s]"
     ]
    },
    {
     "name": "stdout",
     "output_type": "stream",
     "text": [
      "Test loss tensor(0.0167, device='cuda:0')\n",
      "Current epoch:  55\n"
     ]
    },
    {
     "name": "stderr",
     "output_type": "stream",
     "text": [
      "100%|██████████| 916/916 [01:37<00:00,  8.82it/s]\n",
      "  0%|          | 0/102 [00:00<?, ?it/s]"
     ]
    },
    {
     "name": "stdout",
     "output_type": "stream",
     "text": [
      "Epoch loss tensor(0.0240, device='cuda:0')\n",
      "Make test\n"
     ]
    },
    {
     "name": "stderr",
     "output_type": "stream",
     "text": [
      "100%|██████████| 102/102 [00:11<00:00,  9.04it/s]\n",
      "  0%|          | 0/916 [00:00<?, ?it/s]"
     ]
    },
    {
     "name": "stdout",
     "output_type": "stream",
     "text": [
      "Test loss tensor(0.0248, device='cuda:0')\n",
      "Current epoch:  56\n"
     ]
    },
    {
     "name": "stderr",
     "output_type": "stream",
     "text": [
      "100%|██████████| 916/916 [01:40<00:00,  9.14it/s]\n",
      "  0%|          | 0/102 [00:00<?, ?it/s]"
     ]
    },
    {
     "name": "stdout",
     "output_type": "stream",
     "text": [
      "Epoch loss tensor(0.0193, device='cuda:0')\n",
      "Make test\n"
     ]
    },
    {
     "name": "stderr",
     "output_type": "stream",
     "text": [
      "100%|██████████| 102/102 [00:11<00:00,  9.00it/s]\n",
      "  0%|          | 0/916 [00:00<?, ?it/s]"
     ]
    },
    {
     "name": "stdout",
     "output_type": "stream",
     "text": [
      "Test loss tensor(0.0201, device='cuda:0')\n",
      "Current epoch:  57\n"
     ]
    },
    {
     "name": "stderr",
     "output_type": "stream",
     "text": [
      "100%|██████████| 916/916 [01:38<00:00,  9.28it/s]\n",
      "  0%|          | 0/102 [00:00<?, ?it/s]"
     ]
    },
    {
     "name": "stdout",
     "output_type": "stream",
     "text": [
      "Epoch loss tensor(0.0203, device='cuda:0')\n",
      "Make test\n"
     ]
    },
    {
     "name": "stderr",
     "output_type": "stream",
     "text": [
      "100%|██████████| 102/102 [00:12<00:00, 11.58it/s]\n",
      "  0%|          | 0/916 [00:00<?, ?it/s]"
     ]
    },
    {
     "name": "stdout",
     "output_type": "stream",
     "text": [
      "Test loss tensor(0.0230, device='cuda:0')\n",
      "Current epoch:  58\n"
     ]
    },
    {
     "name": "stderr",
     "output_type": "stream",
     "text": [
      "100%|██████████| 916/916 [01:43<00:00,  9.65it/s]\n",
      "  0%|          | 0/102 [00:00<?, ?it/s]"
     ]
    },
    {
     "name": "stdout",
     "output_type": "stream",
     "text": [
      "Epoch loss tensor(0.0191, device='cuda:0')\n",
      "Make test\n"
     ]
    },
    {
     "name": "stderr",
     "output_type": "stream",
     "text": [
      "100%|██████████| 102/102 [00:11<00:00,  8.75it/s]\n",
      "  0%|          | 0/916 [00:00<?, ?it/s]"
     ]
    },
    {
     "name": "stdout",
     "output_type": "stream",
     "text": [
      "Test loss tensor(0.0141, device='cuda:0')\n",
      "Current epoch:  59\n"
     ]
    },
    {
     "name": "stderr",
     "output_type": "stream",
     "text": [
      "100%|██████████| 916/916 [01:38<00:00,  9.26it/s]\n",
      "  0%|          | 0/102 [00:00<?, ?it/s]"
     ]
    },
    {
     "name": "stdout",
     "output_type": "stream",
     "text": [
      "Epoch loss tensor(0.0206, device='cuda:0')\n",
      "Make test\n"
     ]
    },
    {
     "name": "stderr",
     "output_type": "stream",
     "text": [
      "100%|██████████| 102/102 [00:11<00:00,  8.72it/s]\n",
      "  0%|          | 0/916 [00:00<?, ?it/s]"
     ]
    },
    {
     "name": "stdout",
     "output_type": "stream",
     "text": [
      "Test loss tensor(0.0198, device='cuda:0')\n",
      "Current epoch:  60\n"
     ]
    },
    {
     "name": "stderr",
     "output_type": "stream",
     "text": [
      "100%|██████████| 916/916 [01:38<00:00,  9.33it/s]\n",
      "  0%|          | 0/102 [00:00<?, ?it/s]"
     ]
    },
    {
     "name": "stdout",
     "output_type": "stream",
     "text": [
      "Epoch loss tensor(0.0148, device='cuda:0')\n",
      "Make test\n"
     ]
    },
    {
     "name": "stderr",
     "output_type": "stream",
     "text": [
      "100%|██████████| 102/102 [00:11<00:00,  8.51it/s]\n",
      "  0%|          | 0/916 [00:00<?, ?it/s]"
     ]
    },
    {
     "name": "stdout",
     "output_type": "stream",
     "text": [
      "Test loss tensor(0.0145, device='cuda:0')\n",
      "Current epoch:  61\n"
     ]
    },
    {
     "name": "stderr",
     "output_type": "stream",
     "text": [
      "100%|██████████| 916/916 [01:38<00:00,  9.31it/s]\n",
      "  0%|          | 0/102 [00:00<?, ?it/s]"
     ]
    },
    {
     "name": "stdout",
     "output_type": "stream",
     "text": [
      "Epoch loss tensor(0.0172, device='cuda:0')\n",
      "Make test\n"
     ]
    },
    {
     "name": "stderr",
     "output_type": "stream",
     "text": [
      "100%|██████████| 102/102 [00:11<00:00,  8.64it/s]\n",
      "  0%|          | 0/916 [00:00<?, ?it/s]"
     ]
    },
    {
     "name": "stdout",
     "output_type": "stream",
     "text": [
      "Test loss tensor(0.0118, device='cuda:0')\n",
      "Current epoch:  62\n"
     ]
    },
    {
     "name": "stderr",
     "output_type": "stream",
     "text": [
      "100%|██████████| 916/916 [01:43<00:00,  8.86it/s]\n",
      "  0%|          | 0/102 [00:00<?, ?it/s]"
     ]
    },
    {
     "name": "stdout",
     "output_type": "stream",
     "text": [
      "Epoch loss tensor(0.0152, device='cuda:0')\n",
      "Make test\n"
     ]
    },
    {
     "name": "stderr",
     "output_type": "stream",
     "text": [
      "100%|██████████| 102/102 [00:12<00:00,  8.48it/s]\n",
      "  0%|          | 0/916 [00:00<?, ?it/s]"
     ]
    },
    {
     "name": "stdout",
     "output_type": "stream",
     "text": [
      "Test loss tensor(0.0168, device='cuda:0')\n",
      "Current epoch:  63\n"
     ]
    },
    {
     "name": "stderr",
     "output_type": "stream",
     "text": [
      "100%|██████████| 916/916 [01:49<00:00,  8.40it/s]\n",
      "  0%|          | 0/102 [00:00<?, ?it/s]"
     ]
    },
    {
     "name": "stdout",
     "output_type": "stream",
     "text": [
      "Epoch loss tensor(0.0164, device='cuda:0')\n",
      "Make test\n"
     ]
    },
    {
     "name": "stderr",
     "output_type": "stream",
     "text": [
      "100%|██████████| 102/102 [00:13<00:00,  7.80it/s]\n",
      "  0%|          | 0/916 [00:00<?, ?it/s]"
     ]
    },
    {
     "name": "stdout",
     "output_type": "stream",
     "text": [
      "Test loss tensor(0.0117, device='cuda:0')\n",
      "Current epoch:  64\n"
     ]
    },
    {
     "name": "stderr",
     "output_type": "stream",
     "text": [
      "100%|██████████| 916/916 [01:43<00:00,  8.88it/s]\n",
      "  0%|          | 0/102 [00:00<?, ?it/s]"
     ]
    },
    {
     "name": "stdout",
     "output_type": "stream",
     "text": [
      "Epoch loss tensor(0.0134, device='cuda:0')\n",
      "Make test\n"
     ]
    },
    {
     "name": "stderr",
     "output_type": "stream",
     "text": [
      "100%|██████████| 102/102 [00:12<00:00,  8.40it/s]\n",
      "  0%|          | 0/916 [00:00<?, ?it/s]"
     ]
    },
    {
     "name": "stdout",
     "output_type": "stream",
     "text": [
      "Test loss tensor(0.0136, device='cuda:0')\n",
      "Current epoch:  65\n"
     ]
    },
    {
     "name": "stderr",
     "output_type": "stream",
     "text": [
      "100%|██████████| 916/916 [01:40<00:00,  9.07it/s]\n",
      "  0%|          | 0/102 [00:00<?, ?it/s]"
     ]
    },
    {
     "name": "stdout",
     "output_type": "stream",
     "text": [
      "Epoch loss tensor(0.0133, device='cuda:0')\n",
      "Make test\n"
     ]
    },
    {
     "name": "stderr",
     "output_type": "stream",
     "text": [
      "100%|██████████| 102/102 [00:11<00:00,  8.52it/s]\n",
      "  0%|          | 0/916 [00:00<?, ?it/s]"
     ]
    },
    {
     "name": "stdout",
     "output_type": "stream",
     "text": [
      "Test loss tensor(0.0149, device='cuda:0')\n",
      "Current epoch:  66\n"
     ]
    },
    {
     "name": "stderr",
     "output_type": "stream",
     "text": [
      "100%|██████████| 916/916 [01:40<00:00,  9.80it/s]\n",
      "  0%|          | 0/102 [00:00<?, ?it/s]"
     ]
    },
    {
     "name": "stdout",
     "output_type": "stream",
     "text": [
      "Epoch loss tensor(0.0123, device='cuda:0')\n",
      "Make test\n"
     ]
    },
    {
     "name": "stderr",
     "output_type": "stream",
     "text": [
      "100%|██████████| 102/102 [00:11<00:00,  8.81it/s]\n",
      "  0%|          | 0/916 [00:00<?, ?it/s]"
     ]
    },
    {
     "name": "stdout",
     "output_type": "stream",
     "text": [
      "Test loss tensor(0.0132, device='cuda:0')\n",
      "Current epoch:  67\n"
     ]
    },
    {
     "name": "stderr",
     "output_type": "stream",
     "text": [
      "100%|██████████| 916/916 [01:41<00:00,  9.06it/s]\n",
      "  0%|          | 0/102 [00:00<?, ?it/s]"
     ]
    },
    {
     "name": "stdout",
     "output_type": "stream",
     "text": [
      "Epoch loss tensor(0.0155, device='cuda:0')\n",
      "Make test\n"
     ]
    },
    {
     "name": "stderr",
     "output_type": "stream",
     "text": [
      "100%|██████████| 102/102 [00:11<00:00,  8.89it/s]\n",
      "  0%|          | 0/916 [00:00<?, ?it/s]"
     ]
    },
    {
     "name": "stdout",
     "output_type": "stream",
     "text": [
      "Test loss tensor(0.0194, device='cuda:0')\n",
      "Current epoch:  68\n"
     ]
    },
    {
     "name": "stderr",
     "output_type": "stream",
     "text": [
      "100%|██████████| 916/916 [01:41<00:00,  9.01it/s]\n",
      "  0%|          | 0/102 [00:00<?, ?it/s]"
     ]
    },
    {
     "name": "stdout",
     "output_type": "stream",
     "text": [
      "Epoch loss tensor(0.0201, device='cuda:0')\n",
      "Make test\n"
     ]
    },
    {
     "name": "stderr",
     "output_type": "stream",
     "text": [
      "100%|██████████| 102/102 [00:11<00:00,  8.53it/s]\n",
      "  0%|          | 0/916 [00:00<?, ?it/s]"
     ]
    },
    {
     "name": "stdout",
     "output_type": "stream",
     "text": [
      "Test loss tensor(0.0201, device='cuda:0')\n",
      "Current epoch:  69\n"
     ]
    },
    {
     "name": "stderr",
     "output_type": "stream",
     "text": [
      "100%|██████████| 916/916 [01:39<00:00,  9.01it/s]\n",
      "  0%|          | 0/102 [00:00<?, ?it/s]"
     ]
    },
    {
     "name": "stdout",
     "output_type": "stream",
     "text": [
      "Epoch loss tensor(0.0158, device='cuda:0')\n",
      "Make test\n"
     ]
    },
    {
     "name": "stderr",
     "output_type": "stream",
     "text": [
      "100%|██████████| 102/102 [00:12<00:00,  9.89it/s]\n",
      "  0%|          | 0/916 [00:00<?, ?it/s]"
     ]
    },
    {
     "name": "stdout",
     "output_type": "stream",
     "text": [
      "Test loss tensor(0.0154, device='cuda:0')\n",
      "Current epoch:  70\n"
     ]
    },
    {
     "name": "stderr",
     "output_type": "stream",
     "text": [
      "100%|██████████| 916/916 [01:41<00:00,  8.93it/s]\n",
      "  0%|          | 0/102 [00:00<?, ?it/s]"
     ]
    },
    {
     "name": "stdout",
     "output_type": "stream",
     "text": [
      "Epoch loss tensor(0.0158, device='cuda:0')\n",
      "Make test\n"
     ]
    },
    {
     "name": "stderr",
     "output_type": "stream",
     "text": [
      "100%|██████████| 102/102 [00:12<00:00,  8.20it/s]\n",
      "  0%|          | 0/916 [00:00<?, ?it/s]"
     ]
    },
    {
     "name": "stdout",
     "output_type": "stream",
     "text": [
      "Test loss tensor(0.0157, device='cuda:0')\n",
      "Current epoch:  71\n"
     ]
    },
    {
     "name": "stderr",
     "output_type": "stream",
     "text": [
      "100%|██████████| 916/916 [01:44<00:00,  8.79it/s]\n",
      "  0%|          | 0/102 [00:00<?, ?it/s]"
     ]
    },
    {
     "name": "stdout",
     "output_type": "stream",
     "text": [
      "Epoch loss tensor(0.0161, device='cuda:0')\n",
      "Make test\n"
     ]
    },
    {
     "name": "stderr",
     "output_type": "stream",
     "text": [
      "100%|██████████| 102/102 [00:12<00:00,  8.22it/s]\n",
      "  0%|          | 0/916 [00:00<?, ?it/s]"
     ]
    },
    {
     "name": "stdout",
     "output_type": "stream",
     "text": [
      "Test loss tensor(0.0154, device='cuda:0')\n",
      "Current epoch:  72\n"
     ]
    },
    {
     "name": "stderr",
     "output_type": "stream",
     "text": [
      "100%|██████████| 916/916 [01:41<00:00,  9.02it/s]\n",
      "  0%|          | 0/102 [00:00<?, ?it/s]"
     ]
    },
    {
     "name": "stdout",
     "output_type": "stream",
     "text": [
      "Epoch loss tensor(0.0156, device='cuda:0')\n",
      "Make test\n"
     ]
    },
    {
     "name": "stderr",
     "output_type": "stream",
     "text": [
      "100%|██████████| 102/102 [00:12<00:00,  8.07it/s]\n",
      "  0%|          | 0/916 [00:00<?, ?it/s]"
     ]
    },
    {
     "name": "stdout",
     "output_type": "stream",
     "text": [
      "Test loss tensor(0.0125, device='cuda:0')\n",
      "Current epoch:  73\n"
     ]
    },
    {
     "name": "stderr",
     "output_type": "stream",
     "text": [
      "100%|██████████| 916/916 [01:43<00:00,  8.87it/s]\n",
      "  0%|          | 0/102 [00:00<?, ?it/s]"
     ]
    },
    {
     "name": "stdout",
     "output_type": "stream",
     "text": [
      "Epoch loss tensor(0.0123, device='cuda:0')\n",
      "Make test\n"
     ]
    },
    {
     "name": "stderr",
     "output_type": "stream",
     "text": [
      "100%|██████████| 102/102 [00:13<00:00,  7.52it/s]\n",
      "  0%|          | 0/916 [00:00<?, ?it/s]"
     ]
    },
    {
     "name": "stdout",
     "output_type": "stream",
     "text": [
      "Test loss tensor(0.0091, device='cuda:0')\n",
      "Current epoch:  74\n"
     ]
    },
    {
     "name": "stderr",
     "output_type": "stream",
     "text": [
      "100%|██████████| 916/916 [01:46<00:00,  8.71it/s]\n",
      "  0%|          | 0/102 [00:00<?, ?it/s]"
     ]
    },
    {
     "name": "stdout",
     "output_type": "stream",
     "text": [
      "Epoch loss tensor(0.0119, device='cuda:0')\n",
      "Make test\n"
     ]
    },
    {
     "name": "stderr",
     "output_type": "stream",
     "text": [
      "100%|██████████| 102/102 [00:12<00:00,  8.39it/s]\n",
      "  0%|          | 0/916 [00:00<?, ?it/s]"
     ]
    },
    {
     "name": "stdout",
     "output_type": "stream",
     "text": [
      "Test loss tensor(0.0137, device='cuda:0')\n",
      "Current epoch:  75\n"
     ]
    },
    {
     "name": "stderr",
     "output_type": "stream",
     "text": [
      "100%|██████████| 916/916 [01:48<00:00,  8.47it/s]\n",
      "  0%|          | 0/102 [00:00<?, ?it/s]"
     ]
    },
    {
     "name": "stdout",
     "output_type": "stream",
     "text": [
      "Epoch loss tensor(0.0125, device='cuda:0')\n",
      "Make test\n"
     ]
    },
    {
     "name": "stderr",
     "output_type": "stream",
     "text": [
      "100%|██████████| 102/102 [00:12<00:00,  8.04it/s]\n",
      "  0%|          | 0/916 [00:00<?, ?it/s]"
     ]
    },
    {
     "name": "stdout",
     "output_type": "stream",
     "text": [
      "Test loss tensor(0.0134, device='cuda:0')\n",
      "Current epoch:  76\n"
     ]
    },
    {
     "name": "stderr",
     "output_type": "stream",
     "text": [
      "100%|██████████| 916/916 [01:37<00:00, 11.01it/s]\n",
      "  0%|          | 0/102 [00:00<?, ?it/s]"
     ]
    },
    {
     "name": "stdout",
     "output_type": "stream",
     "text": [
      "Epoch loss tensor(0.0144, device='cuda:0')\n",
      "Make test\n"
     ]
    },
    {
     "name": "stderr",
     "output_type": "stream",
     "text": [
      "100%|██████████| 102/102 [00:11<00:00,  8.54it/s]\n",
      "  0%|          | 0/916 [00:00<?, ?it/s]"
     ]
    },
    {
     "name": "stdout",
     "output_type": "stream",
     "text": [
      "Test loss tensor(0.0140, device='cuda:0')\n",
      "Current epoch:  77\n"
     ]
    },
    {
     "name": "stderr",
     "output_type": "stream",
     "text": [
      "100%|██████████| 916/916 [01:43<00:00,  8.73it/s]\n",
      "  0%|          | 0/102 [00:00<?, ?it/s]"
     ]
    },
    {
     "name": "stdout",
     "output_type": "stream",
     "text": [
      "Epoch loss tensor(0.0176, device='cuda:0')\n",
      "Make test\n"
     ]
    },
    {
     "name": "stderr",
     "output_type": "stream",
     "text": [
      "100%|██████████| 102/102 [00:12<00:00, 10.18it/s]\n",
      "  0%|          | 0/916 [00:00<?, ?it/s]"
     ]
    },
    {
     "name": "stdout",
     "output_type": "stream",
     "text": [
      "Test loss tensor(0.0178, device='cuda:0')\n",
      "Current epoch:  78\n"
     ]
    },
    {
     "name": "stderr",
     "output_type": "stream",
     "text": [
      "100%|██████████| 916/916 [01:40<00:00,  9.33it/s]\n",
      "  0%|          | 0/102 [00:00<?, ?it/s]"
     ]
    },
    {
     "name": "stdout",
     "output_type": "stream",
     "text": [
      "Epoch loss tensor(0.0154, device='cuda:0')\n",
      "Make test\n"
     ]
    },
    {
     "name": "stderr",
     "output_type": "stream",
     "text": [
      "100%|██████████| 102/102 [00:13<00:00,  7.73it/s]\n",
      "  0%|          | 0/916 [00:00<?, ?it/s]"
     ]
    },
    {
     "name": "stdout",
     "output_type": "stream",
     "text": [
      "Test loss tensor(0.0117, device='cuda:0')\n",
      "Current epoch:  79\n"
     ]
    },
    {
     "name": "stderr",
     "output_type": "stream",
     "text": [
      "100%|██████████| 916/916 [01:42<00:00,  8.97it/s]\n",
      "  0%|          | 0/102 [00:00<?, ?it/s]"
     ]
    },
    {
     "name": "stdout",
     "output_type": "stream",
     "text": [
      "Epoch loss tensor(0.0130, device='cuda:0')\n",
      "Make test\n"
     ]
    },
    {
     "name": "stderr",
     "output_type": "stream",
     "text": [
      "100%|██████████| 102/102 [00:12<00:00,  8.06it/s]\n",
      "  0%|          | 0/916 [00:00<?, ?it/s]"
     ]
    },
    {
     "name": "stdout",
     "output_type": "stream",
     "text": [
      "Test loss tensor(0.0101, device='cuda:0')\n",
      "Current epoch:  80\n"
     ]
    },
    {
     "name": "stderr",
     "output_type": "stream",
     "text": [
      "100%|██████████| 916/916 [01:41<00:00,  9.01it/s]\n",
      "  0%|          | 0/102 [00:00<?, ?it/s]"
     ]
    },
    {
     "name": "stdout",
     "output_type": "stream",
     "text": [
      "Epoch loss tensor(0.0112, device='cuda:0')\n",
      "Make test\n"
     ]
    },
    {
     "name": "stderr",
     "output_type": "stream",
     "text": [
      "100%|██████████| 102/102 [00:12<00:00,  8.11it/s]\n",
      "  0%|          | 0/916 [00:00<?, ?it/s]"
     ]
    },
    {
     "name": "stdout",
     "output_type": "stream",
     "text": [
      "Test loss tensor(0.0075, device='cuda:0')\n",
      "Current epoch:  81\n"
     ]
    },
    {
     "name": "stderr",
     "output_type": "stream",
     "text": [
      "100%|██████████| 916/916 [01:44<00:00,  8.75it/s]\n",
      "  0%|          | 0/102 [00:00<?, ?it/s]"
     ]
    },
    {
     "name": "stdout",
     "output_type": "stream",
     "text": [
      "Epoch loss tensor(0.0082, device='cuda:0')\n",
      "Make test\n"
     ]
    },
    {
     "name": "stderr",
     "output_type": "stream",
     "text": [
      "100%|██████████| 102/102 [00:12<00:00,  8.04it/s]\n",
      "  0%|          | 0/916 [00:00<?, ?it/s]"
     ]
    },
    {
     "name": "stdout",
     "output_type": "stream",
     "text": [
      "Test loss tensor(0.0080, device='cuda:0')\n",
      "Current epoch:  82\n"
     ]
    },
    {
     "name": "stderr",
     "output_type": "stream",
     "text": [
      "100%|██████████| 916/916 [01:53<00:00,  8.22it/s]\n",
      "  0%|          | 0/102 [00:00<?, ?it/s]"
     ]
    },
    {
     "name": "stdout",
     "output_type": "stream",
     "text": [
      "Epoch loss tensor(0.0108, device='cuda:0')\n",
      "Make test\n"
     ]
    },
    {
     "name": "stderr",
     "output_type": "stream",
     "text": [
      "100%|██████████| 102/102 [00:13<00:00,  7.57it/s]\n",
      "  0%|          | 0/916 [00:00<?, ?it/s]"
     ]
    },
    {
     "name": "stdout",
     "output_type": "stream",
     "text": [
      "Test loss tensor(0.0129, device='cuda:0')\n",
      "Current epoch:  83\n"
     ]
    },
    {
     "name": "stderr",
     "output_type": "stream",
     "text": [
      "100%|██████████| 916/916 [01:56<00:00,  7.87it/s]\n",
      "  0%|          | 0/102 [00:00<?, ?it/s]"
     ]
    },
    {
     "name": "stdout",
     "output_type": "stream",
     "text": [
      "Epoch loss tensor(0.0122, device='cuda:0')\n",
      "Make test\n"
     ]
    },
    {
     "name": "stderr",
     "output_type": "stream",
     "text": [
      "100%|██████████| 102/102 [00:12<00:00,  9.59it/s]\n",
      "  0%|          | 0/916 [00:00<?, ?it/s]"
     ]
    },
    {
     "name": "stdout",
     "output_type": "stream",
     "text": [
      "Test loss tensor(0.0128, device='cuda:0')\n",
      "Current epoch:  84\n"
     ]
    },
    {
     "name": "stderr",
     "output_type": "stream",
     "text": [
      "100%|██████████| 916/916 [01:52<00:00,  8.16it/s]\n",
      "  0%|          | 0/102 [00:00<?, ?it/s]"
     ]
    },
    {
     "name": "stdout",
     "output_type": "stream",
     "text": [
      "Epoch loss tensor(0.0135, device='cuda:0')\n",
      "Make test\n"
     ]
    },
    {
     "name": "stderr",
     "output_type": "stream",
     "text": [
      "100%|██████████| 102/102 [00:13<00:00,  7.65it/s]\n",
      "  0%|          | 0/916 [00:00<?, ?it/s]"
     ]
    },
    {
     "name": "stdout",
     "output_type": "stream",
     "text": [
      "Test loss tensor(0.0129, device='cuda:0')\n",
      "Current epoch:  85\n"
     ]
    },
    {
     "name": "stderr",
     "output_type": "stream",
     "text": [
      "100%|██████████| 916/916 [01:53<00:00,  8.10it/s]\n",
      "  0%|          | 0/102 [00:00<?, ?it/s]"
     ]
    },
    {
     "name": "stdout",
     "output_type": "stream",
     "text": [
      "Epoch loss tensor(0.0149, device='cuda:0')\n",
      "Make test\n"
     ]
    },
    {
     "name": "stderr",
     "output_type": "stream",
     "text": [
      "100%|██████████| 102/102 [00:14<00:00,  7.06it/s]\n",
      "  0%|          | 0/916 [00:00<?, ?it/s]"
     ]
    },
    {
     "name": "stdout",
     "output_type": "stream",
     "text": [
      "Test loss tensor(0.0162, device='cuda:0')\n",
      "Current epoch:  86\n"
     ]
    },
    {
     "name": "stderr",
     "output_type": "stream",
     "text": [
      "100%|██████████| 916/916 [01:59<00:00,  7.64it/s]\n",
      "  0%|          | 0/102 [00:00<?, ?it/s]"
     ]
    },
    {
     "name": "stdout",
     "output_type": "stream",
     "text": [
      "Epoch loss tensor(0.0150, device='cuda:0')\n",
      "Make test\n"
     ]
    },
    {
     "name": "stderr",
     "output_type": "stream",
     "text": [
      "100%|██████████| 102/102 [00:13<00:00,  7.34it/s]\n",
      "  0%|          | 0/916 [00:00<?, ?it/s]"
     ]
    },
    {
     "name": "stdout",
     "output_type": "stream",
     "text": [
      "Test loss tensor(0.0129, device='cuda:0')\n",
      "Current epoch:  87\n"
     ]
    },
    {
     "name": "stderr",
     "output_type": "stream",
     "text": [
      "100%|██████████| 916/916 [01:43<00:00,  7.80it/s]\n",
      "  0%|          | 0/102 [00:00<?, ?it/s]"
     ]
    },
    {
     "name": "stdout",
     "output_type": "stream",
     "text": [
      "Epoch loss tensor(0.0143, device='cuda:0')\n",
      "Make test\n"
     ]
    },
    {
     "name": "stderr",
     "output_type": "stream",
     "text": [
      "100%|██████████| 102/102 [00:12<00:00,  8.24it/s]\n",
      "  0%|          | 0/916 [00:00<?, ?it/s]"
     ]
    },
    {
     "name": "stdout",
     "output_type": "stream",
     "text": [
      "Test loss tensor(0.0134, device='cuda:0')\n",
      "Current epoch:  88\n"
     ]
    },
    {
     "name": "stderr",
     "output_type": "stream",
     "text": [
      "100%|██████████| 916/916 [01:37<00:00,  9.43it/s]\n",
      "  0%|          | 0/102 [00:00<?, ?it/s]"
     ]
    },
    {
     "name": "stdout",
     "output_type": "stream",
     "text": [
      "Epoch loss tensor(0.0120, device='cuda:0')\n",
      "Make test\n"
     ]
    },
    {
     "name": "stderr",
     "output_type": "stream",
     "text": [
      "100%|██████████| 102/102 [00:11<00:00,  8.62it/s]\n",
      "  0%|          | 0/916 [00:00<?, ?it/s]"
     ]
    },
    {
     "name": "stdout",
     "output_type": "stream",
     "text": [
      "Test loss tensor(0.0096, device='cuda:0')\n",
      "Current epoch:  89\n"
     ]
    },
    {
     "name": "stderr",
     "output_type": "stream",
     "text": [
      "100%|██████████| 916/916 [01:40<00:00,  9.08it/s]\n",
      "  0%|          | 0/102 [00:00<?, ?it/s]"
     ]
    },
    {
     "name": "stdout",
     "output_type": "stream",
     "text": [
      "Epoch loss tensor(0.0102, device='cuda:0')\n",
      "Make test\n"
     ]
    },
    {
     "name": "stderr",
     "output_type": "stream",
     "text": [
      "100%|██████████| 102/102 [00:12<00:00,  8.43it/s]\n",
      "  0%|          | 0/916 [00:00<?, ?it/s]"
     ]
    },
    {
     "name": "stdout",
     "output_type": "stream",
     "text": [
      "Test loss tensor(0.0085, device='cuda:0')\n",
      "Current epoch:  90\n"
     ]
    },
    {
     "name": "stderr",
     "output_type": "stream",
     "text": [
      "100%|██████████| 916/916 [01:37<00:00,  9.88it/s]\n",
      "  0%|          | 0/102 [00:00<?, ?it/s]"
     ]
    },
    {
     "name": "stdout",
     "output_type": "stream",
     "text": [
      "Epoch loss tensor(0.0108, device='cuda:0')\n",
      "Make test\n"
     ]
    },
    {
     "name": "stderr",
     "output_type": "stream",
     "text": [
      "100%|██████████| 102/102 [00:12<00:00,  8.41it/s]\n",
      "  0%|          | 0/916 [00:00<?, ?it/s]"
     ]
    },
    {
     "name": "stdout",
     "output_type": "stream",
     "text": [
      "Test loss tensor(0.0078, device='cuda:0')\n",
      "Current epoch:  91\n"
     ]
    },
    {
     "name": "stderr",
     "output_type": "stream",
     "text": [
      "100%|██████████| 916/916 [01:35<00:00,  9.27it/s]\n",
      "  0%|          | 0/102 [00:00<?, ?it/s]"
     ]
    },
    {
     "name": "stdout",
     "output_type": "stream",
     "text": [
      "Epoch loss tensor(0.0117, device='cuda:0')\n",
      "Make test\n"
     ]
    },
    {
     "name": "stderr",
     "output_type": "stream",
     "text": [
      "100%|██████████| 102/102 [00:11<00:00,  8.92it/s]\n",
      "  0%|          | 0/916 [00:00<?, ?it/s]"
     ]
    },
    {
     "name": "stdout",
     "output_type": "stream",
     "text": [
      "Test loss tensor(0.0099, device='cuda:0')\n",
      "Current epoch:  92\n"
     ]
    },
    {
     "name": "stderr",
     "output_type": "stream",
     "text": [
      "100%|██████████| 916/916 [01:40<00:00,  9.15it/s]\n",
      "  0%|          | 0/102 [00:00<?, ?it/s]"
     ]
    },
    {
     "name": "stdout",
     "output_type": "stream",
     "text": [
      "Epoch loss tensor(0.0139, device='cuda:0')\n",
      "Make test\n"
     ]
    },
    {
     "name": "stderr",
     "output_type": "stream",
     "text": [
      "100%|██████████| 102/102 [00:11<00:00,  8.82it/s]\n",
      "  0%|          | 0/916 [00:00<?, ?it/s]"
     ]
    },
    {
     "name": "stdout",
     "output_type": "stream",
     "text": [
      "Test loss tensor(0.0124, device='cuda:0')\n",
      "Current epoch:  93\n"
     ]
    },
    {
     "name": "stderr",
     "output_type": "stream",
     "text": [
      "100%|██████████| 916/916 [01:39<00:00,  9.20it/s]\n",
      "  0%|          | 0/102 [00:00<?, ?it/s]"
     ]
    },
    {
     "name": "stdout",
     "output_type": "stream",
     "text": [
      "Epoch loss tensor(0.0132, device='cuda:0')\n",
      "Make test\n"
     ]
    },
    {
     "name": "stderr",
     "output_type": "stream",
     "text": [
      "100%|██████████| 102/102 [00:11<00:00,  8.62it/s]\n",
      "  0%|          | 0/916 [00:00<?, ?it/s]"
     ]
    },
    {
     "name": "stdout",
     "output_type": "stream",
     "text": [
      "Test loss tensor(0.0146, device='cuda:0')\n",
      "Current epoch:  94\n"
     ]
    },
    {
     "name": "stderr",
     "output_type": "stream",
     "text": [
      "100%|██████████| 916/916 [01:44<00:00,  8.76it/s]\n",
      "  0%|          | 0/102 [00:00<?, ?it/s]"
     ]
    },
    {
     "name": "stdout",
     "output_type": "stream",
     "text": [
      "Epoch loss tensor(0.0125, device='cuda:0')\n",
      "Make test\n"
     ]
    },
    {
     "name": "stderr",
     "output_type": "stream",
     "text": [
      "100%|██████████| 102/102 [00:11<00:00,  8.61it/s]\n",
      "  0%|          | 0/916 [00:00<?, ?it/s]"
     ]
    },
    {
     "name": "stdout",
     "output_type": "stream",
     "text": [
      "Test loss tensor(0.0125, device='cuda:0')\n",
      "Current epoch:  95\n"
     ]
    },
    {
     "name": "stderr",
     "output_type": "stream",
     "text": [
      "100%|██████████| 916/916 [01:39<00:00,  9.23it/s]\n",
      "  0%|          | 0/102 [00:00<?, ?it/s]"
     ]
    },
    {
     "name": "stdout",
     "output_type": "stream",
     "text": [
      "Epoch loss tensor(0.0106, device='cuda:0')\n",
      "Make test\n"
     ]
    },
    {
     "name": "stderr",
     "output_type": "stream",
     "text": [
      "100%|██████████| 102/102 [00:12<00:00, 10.78it/s]\n",
      "  0%|          | 0/916 [00:00<?, ?it/s]"
     ]
    },
    {
     "name": "stdout",
     "output_type": "stream",
     "text": [
      "Test loss tensor(0.0108, device='cuda:0')\n",
      "Current epoch:  96\n"
     ]
    },
    {
     "name": "stderr",
     "output_type": "stream",
     "text": [
      "100%|██████████| 916/916 [01:38<00:00,  9.29it/s]\n",
      "  0%|          | 0/102 [00:00<?, ?it/s]"
     ]
    },
    {
     "name": "stdout",
     "output_type": "stream",
     "text": [
      "Epoch loss tensor(0.0099, device='cuda:0')\n",
      "Make test\n"
     ]
    },
    {
     "name": "stderr",
     "output_type": "stream",
     "text": [
      "100%|██████████| 102/102 [00:11<00:00, 10.47it/s]\n",
      "  0%|          | 0/916 [00:00<?, ?it/s]"
     ]
    },
    {
     "name": "stdout",
     "output_type": "stream",
     "text": [
      "Test loss tensor(0.0093, device='cuda:0')\n",
      "Current epoch:  97\n"
     ]
    },
    {
     "name": "stderr",
     "output_type": "stream",
     "text": [
      "100%|██████████| 916/916 [01:34<00:00,  9.67it/s]\n",
      "  0%|          | 0/102 [00:00<?, ?it/s]"
     ]
    },
    {
     "name": "stdout",
     "output_type": "stream",
     "text": [
      "Epoch loss tensor(0.0104, device='cuda:0')\n",
      "Make test\n"
     ]
    },
    {
     "name": "stderr",
     "output_type": "stream",
     "text": [
      "100%|██████████| 102/102 [00:11<00:00,  8.74it/s]\n",
      "  0%|          | 0/916 [00:00<?, ?it/s]"
     ]
    },
    {
     "name": "stdout",
     "output_type": "stream",
     "text": [
      "Test loss tensor(0.0109, device='cuda:0')\n",
      "Current epoch:  98\n"
     ]
    },
    {
     "name": "stderr",
     "output_type": "stream",
     "text": [
      "100%|██████████| 916/916 [01:40<00:00,  9.67it/s]\n",
      "  0%|          | 0/102 [00:00<?, ?it/s]"
     ]
    },
    {
     "name": "stdout",
     "output_type": "stream",
     "text": [
      "Epoch loss tensor(0.0098, device='cuda:0')\n",
      "Make test\n"
     ]
    },
    {
     "name": "stderr",
     "output_type": "stream",
     "text": [
      "100%|██████████| 102/102 [00:11<00:00,  8.75it/s]\n",
      "  0%|          | 0/916 [00:00<?, ?it/s]"
     ]
    },
    {
     "name": "stdout",
     "output_type": "stream",
     "text": [
      "Test loss tensor(0.0088, device='cuda:0')\n",
      "Current epoch:  99\n"
     ]
    },
    {
     "name": "stderr",
     "output_type": "stream",
     "text": [
      "100%|██████████| 916/916 [01:40<00:00,  8.11it/s]\n",
      "  0%|          | 0/102 [00:00<?, ?it/s]"
     ]
    },
    {
     "name": "stdout",
     "output_type": "stream",
     "text": [
      "Epoch loss tensor(0.0096, device='cuda:0')\n",
      "Make test\n"
     ]
    },
    {
     "name": "stderr",
     "output_type": "stream",
     "text": [
      "100%|██████████| 102/102 [00:11<00:00,  8.94it/s]"
     ]
    },
    {
     "name": "stdout",
     "output_type": "stream",
     "text": [
      "Test loss tensor(0.0088, device='cuda:0')\n"
     ]
    },
    {
     "name": "stderr",
     "output_type": "stream",
     "text": [
      "\n"
     ]
    }
   ],
   "source": [
    "from torch.autograd import Variable\n",
    "import torch.optim as optim\n",
    "from tensorboardX import SummaryWriter\n",
    "import os\n",
    "from tqdm import *\n",
    "import numpy as np\n",
    "\n",
    "useCuda = True\n",
    "n_epoch = 100\n",
    "log = './log/'\n",
    "train = './data/train/'\n",
    "train_masks = './data/train_masks/'\n",
    "test = './data/test/'\n",
    "test_masks = './data/test_masks'\n",
    "\n",
    "if os.path.exists(log) is False:\n",
    "    os.mkdir(log)\n",
    "tb_writer = SummaryWriter(log_dir='log')\n",
    "\n",
    "if __name__ == '__main__':\n",
    "\n",
    "    m = SegmenterModel()\n",
    "\n",
    "    criterion = nn.CrossEntropyLoss()\n",
    "    optimizer = optim.Adam(m.parameters(), lr=0.001)\n",
    "\n",
    "    if useCuda == True:\n",
    "        m = m.cuda()\n",
    "        criterion = criterion.cuda()\n",
    "\n",
    "    ds = CarvanaDataset(train, train_masks)\n",
    "    ds_test = CarvanaDataset(test, test_masks)\n",
    "    dl = dt.DataLoader(ds, shuffle=True, num_workers=4, batch_size=5)\n",
    "    dl_test = dt.DataLoader(ds_test, shuffle=False, num_workers=4, batch_size=5)\n",
    "    global_iter = 0\n",
    "    for epoch in range(0, n_epoch):\n",
    "        print(\"Current epoch: \", epoch)\n",
    "        epoch_loss = 0\n",
    "        m.train(True)\n",
    "        for iter, (i, t) in enumerate(tqdm(dl)):\n",
    "            i = Variable(i)\n",
    "            t = Variable(t.squeeze_(1).long())\n",
    "            if useCuda:\n",
    "                i = i.cuda()\n",
    "                t = t.cuda()\n",
    "            o = m(i, useCuda)\n",
    "            if useCuda: o = o.cuda()\n",
    "            loss = criterion(o, t)\n",
    "            loss.backward()\n",
    "            optimizer.step()\n",
    "\n",
    "            global_iter += 1\n",
    "            epoch_loss += loss.data[0]\n",
    "\n",
    "        epoch_loss = epoch_loss / float(len(ds))\n",
    "        print(\"Epoch loss\", epoch_loss)\n",
    "        tb_writer.add_scalar('Loss/Train', epoch_loss, epoch)\n",
    "\n",
    "        print(\"Make test\")\n",
    "        test_loss = 0\n",
    "        m.train(False)\n",
    "\n",
    "        tb_out = np.random.choice(range(0, len(dl_test)), 3)\n",
    "        for iter, (i, t) in enumerate(tqdm(dl_test)):\n",
    "            i = Variable(i, volatile=True)\n",
    "            t.squeeze_(1)\n",
    "            t = Variable(t.long(), volatile=True)\n",
    "            if useCuda:\n",
    "                i = i.cuda()\n",
    "                t = t.cuda()\n",
    "            o = m(i, useCuda)\n",
    "            loss = criterion(o, t)\n",
    "            test_loss += loss.data[0]\n",
    "\n",
    "            for k, c in enumerate(tb_out):\n",
    "                if c == iter:\n",
    "                    tb_writer.add_image('Image/Test_input_%d' % k, i[0].cpu(), epoch)  # Tensor\n",
    "                    tb_writer.add_image('Image/Test_target_%d' % k, t[0].cpu(), epoch)  # Tensor\n",
    "                    tb_writer.add_image('Image/Test_output_%d' % k, o[0].cpu(), epoch)  # Tensor\n",
    "\n",
    "        test_loss = test_loss / float(len(ds_test))\n",
    "        print(\"Test loss\", test_loss)\n",
    "        tb_writer.add_scalar('Loss/Test', test_loss, epoch)"
   ]
  },
  {
   "cell_type": "code",
   "execution_count": 42,
   "metadata": {},
   "outputs": [],
   "source": [
    "import matplotlib.pyplot as plt\n",
    "\n",
    "\n",
    "\n",
    "iterator = dl_test.__iter__()\n",
    "input, objective = next(iterator)\n",
    "input = input[0].unsqueeze(0)\n",
    "\n",
    "if useCuda: input = input.cuda()\n",
    "values, pred = m(input, useCuda).max(1)\n",
    "if useCuda: \n",
    "    input = input.cpu()\n",
    "    pred = pred.cpu()\n",
    "\n",
    "pred, input = pred[0].numpy(), input.squeeze(0)[0].numpy()\n",
    "out1 = np.multiply(pred, input)"
   ]
  },
  {
   "cell_type": "markdown",
   "metadata": {},
   "source": [
    "## 4. Результат работы модели."
   ]
  },
  {
   "cell_type": "code",
   "execution_count": 46,
   "metadata": {},
   "outputs": [
    {
     "data": {
      "image/png": "[encoded data removed]",
      "text/plain": [
       "<matplotlib.figure.Figure at 0x7f999d1af320>"
      ]
     },
     "metadata": {},
     "output_type": "display_data"
    }
   ],
   "source": [
    "plt.figure(figsize=(15, 15))\n",
    "\n",
    "plot1= plt.subplot(3, 1, 1)\n",
    "plot1.set_title(\"Input\")\n",
    "plot1.imshow(input, cmap='CMRmap')\n",
    "\n",
    "plot2= plt.subplot(3, 1, 2)\n",
    "plot2.imshow(pred, cmap='CMRmap')\n",
    "plot2.set_title(\"Mask\")\n",
    "\n",
    "plot2= plt.subplot(3, 1, 3)\n",
    "plot2.imshow(out1, cmap='CMRmap')\n",
    "plot2.set_title(\"Result\")\n",
    "\n",
    "\n",
    "plt.show()"
   ]
  },
  {
   "cell_type": "code",
   "execution_count": null,
   "metadata": {
    "collapsed": true
   },
   "outputs": [],
   "source": []
  }
 ],
 "metadata": {
  "kernelspec": {
   "display_name": "Python 3",
   "language": "python",
   "name": "python3"
  },
  "language_info": {
   "codemirror_mode": {
    "name": "ipython",
    "version": 3
   },
   "file_extension": ".py",
   "mimetype": "text/x-python",
   "name": "python",
   "nbconvert_exporter": "python",
   "pygments_lexer": "ipython3",
   "version": "3.6.5"
  }
 },
 "nbformat": 4,
 "nbformat_minor": 2
}
