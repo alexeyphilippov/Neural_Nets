{
 "cells": [
  {
   "cell_type": "code",
   "execution_count": 1,
   "metadata": {},
   "outputs": [
    {
     "name": "stderr",
     "output_type": "stream",
     "text": [
      "/Users/aleksejfilippov/anaconda3/lib/python3.6/site-packages/sklearn/cross_validation.py:41: DeprecationWarning: This module was deprecated in version 0.18 in favor of the model_selection module into which all the refactored classes and functions are moved. Also note that the interface of the new CV iterators are different from that of this module. This module will be removed in 0.20.\n",
      "  \"This module will be removed in 0.20.\", DeprecationWarning)\n"
     ]
    }
   ],
   "source": [
    "import numpy as np\n",
    "import matplotlib.pyplot as plt\n",
    "import pickle\n",
    "from sklearn.cross_validation import train_test_split\n",
    "\n",
    "%matplotlib inline"
   ]
  },
  {
   "cell_type": "code",
   "execution_count": 2,
   "metadata": {},
   "outputs": [],
   "source": [
    "# класс one-hot encoder'а для MNIST\n",
    "class OneHotEncoder:\n",
    "    def __init__(self):\n",
    "        self.transform_mapping = np.zeros((10,10))\n",
    "        for i in range(self.transform_mapping.shape[0]):\n",
    "            self.transform_mapping[i][i] = 1.0\n",
    "    def transform(self, y):\n",
    "        return self.transform_mapping[int(y)]"
   ]
  },
  {
   "cell_type": "code",
   "execution_count": 3,
   "metadata": {},
   "outputs": [],
   "source": [
    "def make_submission(X_test, net, fname=\"my_submission.csv\"):\n",
    "    with open(fname,'w') as fout:\n",
    "        fout.write('Id,Category')\n",
    "        for i in range(X_test.shape[0]):\n",
    "            y_h = net.forward(X_test[i])\n",
    "            y = np.argmax(y_h)\n",
    "            fout.write(\"\\n{},{}\".format(i, int(y)))"
   ]
  },
  {
   "cell_type": "code",
   "execution_count": 4,
   "metadata": {},
   "outputs": [],
   "source": [
    "# внимание, тут Y_test в обычном формате(не onehot)\n",
    "def compute_acc(X_test, Y_test, net):\n",
    "    acc = 0.0\n",
    "    for i in range(X_test.shape[0]):\n",
    "        y_h = net.forward(X_test[i])\n",
    "        y = np.argmax(y_h)\n",
    "        if(y == Y_test[i]):\n",
    "            acc += 1.0\n",
    "    return acc / Y_test.shape[0]"
   ]
  },
  {
   "cell_type": "code",
   "execution_count": 5,
   "metadata": {},
   "outputs": [],
   "source": [
    "train_data = None\n",
    "test_data = None\n",
    "encoder = OneHotEncoder()\n",
    "with open('data_train.pickle','rb') as fin:\n",
    "    train_data = pickle.load(fin)\n",
    "with open('data_test_no_labels.pickle','rb') as fin:\n",
    "    test_data = pickle.load(fin)\n",
    "    \n",
    "X = train_data['data']\n",
    "Y = train_data['target']\n",
    "Y_oh = np.array(list(map(lambda x : encoder.transform(x), Y)))\n",
    "\n",
    "mean = np.mean(X, axis=0)\n",
    "std = np.std(X, axis=0)\n",
    "X = (X - mean) / (std + 0.0001)\n",
    "X_test_fin = (X - mean) / (std + 0.0001)\n",
    "\n",
    "X_train, X_test, Y_train, Y_test, Yf_train, Yf_test = train_test_split(X, Y_oh, Y, test_size=0.33, stratify=Y)\n",
    "\n",
    "X_test_fin = test_data['data']"
   ]
  },
  {
   "cell_type": "code",
   "execution_count": 6,
   "metadata": {},
   "outputs": [
    {
     "name": "stdout",
     "output_type": "stream",
     "text": [
      "(35175, 784)\n",
      "(17500, 784)\n"
     ]
    }
   ],
   "source": [
    "print(X_train.shape)\n",
    "print(X_test_fin.shape)"
   ]
  },
  {
   "cell_type": "code",
   "execution_count": 7,
   "metadata": {},
   "outputs": [],
   "source": [
    "# Определение слоев сети\n",
    "# class Dense:\n",
    "class Dense:\n",
    "    def __init__(self, in_size, out_size, rlambda = 0.001):\n",
    "        self.W = np.random.normal(scale=1, size=(out_size, in_size)) * np.sqrt(2/(out_size + in_size))\n",
    "        self.b = np.zeros(out_size)\n",
    "        self.rlambda = rlambda\n",
    "        \n",
    "    def forward(self, x):\n",
    "        self.x = x # запоминаем для обратного прохода\n",
    "        return np.dot(self.W, x) + self.b\n",
    "    \n",
    "    def get_reg_loss(self):\n",
    "        return 0.5 * self.rlambda * (np.linalg.norm(self.W, ord='fro') ** 2)\n",
    "    \n",
    "    def backward(self, dz, lr=0.001):\n",
    "        # вычисляем градиенты по параметрам (запоминаем их для отладки)\n",
    "        self.dW = np.outer(dz, self.x)\n",
    "        self.db = dz\n",
    "        # вычисляем производную по входу\n",
    "        self.dx = np.matmul(dz, self.W) \n",
    "        # рассчитываем градиенты от регуляризатора\n",
    "        if(self.rlambda != 0):\n",
    "            self.dW += self.rlambda * self.W\n",
    "        # обновляем веса\n",
    "        self.W = self.W - lr * self.dW\n",
    "        self.db = self.db - lr * self.db\n",
    "        # возвращаем dx для продолжения алгоритма\n",
    "        return self.dx"
   ]
  },
  {
   "cell_type": "code",
   "execution_count": 8,
   "metadata": {},
   "outputs": [],
   "source": [
    "class CrossEntropy:\n",
    "    \n",
    "    def forward(self, y_true, y_hat):\n",
    "        self.y_true = y_true\n",
    "        self.y_hat = y_hat\n",
    "        return -np.sum(y_true * np.log(y_hat))\n",
    "    \n",
    "    def backward(self, dz, lr=0.00001):\n",
    "        return dz * -1. * self.y_true / self.y_hat"
   ]
  },
  {
   "cell_type": "code",
   "execution_count": 9,
   "metadata": {},
   "outputs": [],
   "source": [
    "class Max:\n",
    "    \n",
    "    def forward(self, x):\n",
    "        self.x = x\n",
    "        return np.maximum(0, x)\n",
    "    \n",
    "    def backward(self, dz, lr=0.1):\n",
    "        dz[self.x < 0] = 0\n",
    "        return dz"
   ]
  },
  {
   "cell_type": "code",
   "execution_count": 10,
   "metadata": {},
   "outputs": [],
   "source": [
    "class Softmax:\n",
    "    \n",
    "    def forward(self, x):\n",
    "        self.x = x\n",
    "        exps = np.exp(x)\n",
    "        return exps / np.sum(exps)\n",
    "    \n",
    "    def backward(self, dz, lr=0.001):\n",
    "        z = self.forward(self.x)\n",
    "        self.lp = (np.eye(z.shape[0], z.shape[0]) - z).T\n",
    "        self.lp2 = z * self.lp\n",
    "        return np.dot(dz, self.lp2)"
   ]
  },
  {
   "cell_type": "code",
   "execution_count": 64,
   "metadata": {},
   "outputs": [],
   "source": [
    "class Dropout:\n",
    "    def __init__(self, p = 0.5):\n",
    "        self.p = p\n",
    "        self.train = True\n",
    "    \n",
    "    def set_train(self, train = True):\n",
    "        self.train = train\n",
    "        \n",
    "    def set_p(self, p):\n",
    "        self.p = p\n",
    "    \n",
    "    def forward(self, x):\n",
    "        if not self.train:\n",
    "            self.mask = np.ones(*x.shape)\n",
    "            return x\n",
    "        self.mask = ( np.random.rand(*x.shape) > self.p ) / (1.0 - self.p)\n",
    "        return x * self.mask\n",
    "        \n",
    "    def backward(self, dz, lr=0.001):\n",
    "        return dz * self.mask"
   ]
  },
  {
   "cell_type": "code",
   "execution_count": null,
   "metadata": {},
   "outputs": [],
   "source": [
    "class MnistNet1:\n",
    "    def set_rlambda(self, rlambda = 0.0):\n",
    "        self.rlambda = rlambda\n",
    "    \n",
    "    def __init__(self, rlambda = self.rlambda):\n",
    "        self.d1 = Dense(784, 220, self.rlambda)\n",
    "        self.m1 = Max()\n",
    "        self.dr2 = Dropout(0.3)\n",
    "        self.d2 = Dense(220, 10, self.rlambda)\n",
    "        self.s = Softmax()\n",
    "    \n",
    "    def forward(self, x):\n",
    "        net = self.d1.forward(x)\n",
    "        net = self.m1.forward(net)\n",
    "        net = self.dr2.forward(net)\n",
    "        net = self.d2.forward(net)\n",
    "        net = self.s.forward(net)\n",
    "        return net\n",
    "    \n",
    "    def backward(self, dz, lr = 0.001):\n",
    "        dz = self.s.backward(dz, lr)\n",
    "        dz = self.d2.backward(dz, lr)\n",
    "        dz = self.dr2.backward(dz, lr)\n",
    "        dz = self.m1.backward(dz, lr)\n",
    "        dz = self.d1.backward(dz, lr)\n",
    "        return dz"
   ]
  },
  {
   "cell_type": "code",
   "execution_count": 67,
   "metadata": {},
   "outputs": [
    {
     "name": "stdout",
     "output_type": "stream",
     "text": [
      "0 iter loss. Train : 0.4989127013568638 . Test : 0.25729520452182647\n",
      "1 iter loss. Train : 0.2786643247603829 . Test : 0.21587876741247225\n",
      "2 iter loss. Train : 0.23086243764287062 . Test : 0.20131416478584063\n",
      "3 iter loss. Train : 0.2048049960013973 . Test : 0.1786169034575989\n",
      "4 iter loss. Train : 0.1806705114191323 . Test : 0.17272360803267162\n",
      "5 iter loss. Train : 0.1668810978627045 . Test : 0.16570971121680214\n",
      "6 iter loss. Train : 0.15293247058570178 . Test : 0.156955436798562\n",
      "7 iter loss. Train : 0.14102029562373308 . Test : 0.15643656727253735\n",
      "8 iter loss. Train : 0.13097681946957151 . Test : 0.15120017913538392\n",
      "9 iter loss. Train : 0.12226140458455788 . Test : 0.1472998294466532\n",
      "10 iter loss. Train : 0.12015112953460912 . Test : 0.14299017357912683\n",
      "11 iter loss. Train : 0.11188702004574025 . Test : 0.14260842746919997\n",
      "12 iter loss. Train : 0.10941669559636516 . Test : 0.13921793075556058\n",
      "13 iter loss. Train : 0.10748764871588566 . Test : 0.14075211670534163\n",
      "14 iter loss. Train : 0.106258830831712 . Test : 0.13707959156118718\n",
      "15 iter loss. Train : 0.10092223388766196 . Test : 0.13456792553373464\n",
      "16 iter loss. Train : 0.09522634907493642 . Test : 0.13314604010749834\n",
      "17 iter loss. Train : 0.09284333976628963 . Test : 0.13257101552197256\n",
      "18 iter loss. Train : 0.08898947382968772 . Test : 0.13031233381003368\n",
      "19 iter loss. Train : 0.08742826251673735 . Test : 0.129190362016245\n",
      "20 iter loss. Train : 0.08482960155183988 . Test : 0.12981796060859557\n",
      "21 iter loss. Train : 0.08521700994042047 . Test : 0.12735531918101314\n",
      "22 iter loss. Train : 0.082210750889309 . Test : 0.12550611935155878\n",
      "23 iter loss. Train : 0.08441758835624406 . Test : 0.12229979372883064\n",
      "24 iter loss. Train : 0.07868980437987458 . Test : 0.12419500957679135\n",
      "25 iter loss. Train : 0.07762247367684576 . Test : 0.12263142691484967\n",
      "26 iter loss. Train : 0.07919928489015908 . Test : 0.11996021599297967\n",
      "27 iter loss. Train : 0.07705251203557645 . Test : 0.11688855530514457\n",
      "28 iter loss. Train : 0.07159872136462676 . Test : 0.11853698452598188\n",
      "29 iter loss. Train : 0.07120058027345055 . Test : 0.11815669982500761\n",
      "30 iter loss. Train : 0.07167504490894591 . Test : 0.11952320037942163\n",
      "31 iter loss. Train : 0.0699236263354371 . Test : 0.11685569500398867\n",
      "32 iter loss. Train : 0.07210486533522122 . Test : 0.11650992862248949\n",
      "33 iter loss. Train : 0.0743517797243881 . Test : 0.11483901440305486\n",
      "34 iter loss. Train : 0.07363369040296792 . Test : 0.11540483230477233\n",
      "35 iter loss. Train : 0.07087037274338157 . Test : 0.11470030437287938\n",
      "36 iter loss. Train : 0.07140581067801142 . Test : 0.11371343349007804\n",
      "37 iter loss. Train : 0.0711470142781444 . Test : 0.11351950826028886\n",
      "38 iter loss. Train : 0.06642954926110603 . Test : 0.11280859699202825\n",
      "39 iter loss. Train : 0.06893040041624232 . Test : 0.11675067397289693\n",
      "40 iter loss. Train : 0.07028329634774311 . Test : 0.11293861554365105\n",
      "41 iter loss. Train : 0.07271643017631571 . Test : 0.11428133875793173\n",
      "42 iter loss. Train : 0.07001745340688685 . Test : 0.1112210878480594\n",
      "43 iter loss. Train : 0.06988067938291584 . Test : 0.10975582509594917\n",
      "44 iter loss. Train : 0.06790364627367367 . Test : 0.11041840594273616\n",
      "45 iter loss. Train : 0.06652655944241559 . Test : 0.10896677278489472\n",
      "46 iter loss. Train : 0.0695589159118933 . Test : 0.1103201344372096\n",
      "47 iter loss. Train : 0.06820781886181884 . Test : 0.1120039387357107\n",
      "48 iter loss. Train : 0.07124073051756208 . Test : 0.11082955665495432\n",
      "49 iter loss. Train : 0.07183924394976433 . Test : 0.11217157404218298\n",
      "50 iter loss. Train : 0.06620682565736845 . Test : 0.11141145251505748\n",
      "51 iter loss. Train : 0.07119922236714205 . Test : 0.1131990085910668\n",
      "52 iter loss. Train : 0.06386888005245842 . Test : 0.11022804386999754\n",
      "53 iter loss. Train : 0.062342183528521125 . Test : 0.11013450413945511\n",
      "54 iter loss. Train : 0.06308585078050125 . Test : 0.1104794163331685\n",
      "55 iter loss. Train : 0.06513029109950023 . Test : 0.11184817280965341\n",
      "56 iter loss. Train : 0.06393883670022338 . Test : 0.11116359758281033\n",
      "57 iter loss. Train : 0.06231060152519913 . Test : 0.11178142991097113\n",
      "58 iter loss. Train : 0.06574201388597606 . Test : 0.11534676774893368\n",
      "59 iter loss. Train : 0.06752931659865907 . Test : 0.1121158374535744\n",
      "60 iter loss. Train : 0.06638400293313086 . Test : 0.11257717284735327\n",
      "61 iter loss. Train : 0.06197911621254227 . Test : 0.11426910459021267\n",
      "62 iter loss. Train : 0.06607911749719135 . Test : 0.11030712226137478\n",
      "63 iter loss. Train : 0.06379315631464826 . Test : 0.11169011500258912\n",
      "64 iter loss. Train : 0.06457831910303355 . Test : 0.11282521611702297\n",
      "65 iter loss. Train : 0.06455719396886526 . Test : 0.11058982464474035\n",
      "66 iter loss. Train : 0.060529842150178446 . Test : 0.11378782271504544\n",
      "67 iter loss. Train : 0.06098400892555391 . Test : 0.11857261027635267\n",
      "68 iter loss. Train : 0.06531391734655888 . Test : 0.11543261321399169\n",
      "69 iter loss. Train : 0.05981404848233388 . Test : 0.11367721817258757\n",
      "70 iter loss. Train : 0.0588991953404927 . Test : 0.11385952905214031\n",
      "71 iter loss. Train : 0.06186047626825605 . Test : 0.11055690585744941\n",
      "72 iter loss. Train : 0.057760917184801565 . Test : 0.11024277724950318\n",
      "73 iter loss. Train : 0.06412676675783036 . Test : 0.10834660235239493\n",
      "74 iter loss. Train : 0.06422065163735842 . Test : 0.11144340782082045\n",
      "75 iter loss. Train : 0.06134561068681687 . Test : 0.11170457936525524\n",
      "76 iter loss. Train : 0.0630760923493314 . Test : 0.11103496481788644\n",
      "77 iter loss. Train : 0.06522904559233131 . Test : 0.10955910774701384\n",
      "78 iter loss. Train : 0.060888448925834886 . Test : 0.11413787533529328\n",
      "79 iter loss. Train : 0.05853227984906896 . Test : 0.1110711497441878\n",
      "80 iter loss. Train : 0.061208301672391094 . Test : 0.11063899285682381\n",
      "81 iter loss. Train : 0.06326274023695616 . Test : 0.10919315904297557\n",
      "82 iter loss. Train : 0.06212121529922048 . Test : 0.10990772631515978\n",
      "83 iter loss. Train : 0.06143790250610565 . Test : 0.11071450677390966\n",
      "84 iter loss. Train : 0.06236801606299132 . Test : 0.1077119722833031\n",
      "85 iter loss. Train : 0.06065266504879856 . Test : 0.10673389982634023\n",
      "86 iter loss. Train : 0.060108826697859316 . Test : 0.11096951035466202\n",
      "87 iter loss. Train : 0.061512660980179865 . Test : 0.10636307966961266\n",
      "88 iter loss. Train : 0.05905705835560019 . Test : 0.10670755750974943\n",
      "89 iter loss. Train : 0.058848454270868114 . Test : 0.11082815065403889\n",
      "90 iter loss. Train : 0.0605796613677988 . Test : 0.11018210378373122\n",
      "91 iter loss. Train : 0.06032251274382963 . Test : 0.10667686673836334\n",
      "92 iter loss. Train : 0.06028064922065804 . Test : 0.10747710328329767\n",
      "93 iter loss. Train : 0.061609564675400824 . Test : 0.10519794125877935\n",
      "94 iter loss. Train : 0.05950921802168391 . Test : 0.10744198680132833\n",
      "95 iter loss. Train : 0.05806909673734484 . Test : 0.10819058148642018\n",
      "96 iter loss. Train : 0.05905980068753776 . Test : 0.10665870799743338\n",
      "97 iter loss. Train : 0.05946924637240423 . Test : 0.1041712439775567\n",
      "98 iter loss. Train : 0.05901222132916144 . Test : 0.1079785692610589\n",
      "99 iter loss. Train : 0.06061514354345413 . Test : 0.10569088728574635\n"
     ]
    }
   ],
   "source": [
    "net = MnistNet1(0.001)\n",
    "loss = CrossEntropy()\n",
    "net.dr2.set_train(True)\n",
    "net.dr2.set_p(0.5)\n",
    "lr = 0.001\n",
    "L_train = []\n",
    "L_test = []\n",
    "accuracy_test = []\n",
    "accuracy_train = []\n",
    "for iter in range(100):\n",
    "    L_acc = 0.\n",
    "    sh = list(range(X_train.shape[0])) # больше рандома богу рандома\n",
    "    np.random.shuffle(sh)\n",
    "    for i in range(X_train.shape[0]):\n",
    "        x = X_train[sh[i]]\n",
    "        y = Y_train[sh[i]]\n",
    "        y_h = net.forward(x)\n",
    "        L = loss.forward(y, y_h) #+ net.get_reg_loss()\n",
    "        L_acc += L \n",
    "        dz = loss.backward(1, lr)\n",
    "        dz = net.backward(dz, lr)\n",
    "    L_acc /= Y_train.shape[0]\n",
    "    L_train.append(L_acc)\n",
    "    net.dr2.set_train(False)\n",
    "    L_e_acc = 0.\n",
    "    for i in range(X_test.shape[0]):\n",
    "        x = X_test[i]\n",
    "        y = Y_test[i]\n",
    "        y_h = net.forward(x)\n",
    "        L = loss.forward(y, y_h) #+ net.get_reg_loss()\n",
    "        L_e_acc += L\n",
    "    L_e_acc /= Y_test.shape[0]\n",
    "    L_test.append(L_e_acc)\n",
    "    net.dr2.set_train(True)\n",
    "    print(\"{} iter loss. Train : {} . Test : {}\".format(iter, L_acc, L_e_acc))\n"
   ]
  },
  {
   "cell_type": "code",
   "execution_count": 68,
   "metadata": {},
   "outputs": [
    {
     "data": {
      "text/plain": [
       "0.9583838383838383"
      ]
     },
     "execution_count": 68,
     "metadata": {},
     "output_type": "execute_result"
    }
   ],
   "source": [
    "compute_acc(X_test, Yf_test, net)"
   ]
  },
  {
   "cell_type": "code",
   "execution_count": 69,
   "metadata": {},
   "outputs": [
    {
     "data": {
      "text/plain": [
       "[<matplotlib.lines.Line2D at 0x10b901e80>]"
      ]
     },
     "execution_count": 69,
     "metadata": {},
     "output_type": "execute_result"
    },
    {
     "data": {
      "image/png": "[encoded data removed]",
      "text/plain": [
       "<Figure size 432x288 with 1 Axes>"
      ]
     },
     "metadata": {},
     "output_type": "display_data"
    }
   ],
   "source": [
    "plt.plot(L_train, label='train')\n",
    "plt.plot(L_test, label='test')"
   ]
  },
  {
   "cell_type": "code",
   "execution_count": 70,
   "metadata": {},
   "outputs": [
    {
     "name": "stderr",
     "output_type": "stream",
     "text": [
      "/Users/aleksejfilippov/anaconda3/lib/python3.6/site-packages/ipykernel_launcher.py:6: RuntimeWarning: invalid value encountered in true_divide\n",
      "  \n"
     ]
    }
   ],
   "source": [
    "# формируем сабмишшен и заливаем его на kaggle\n",
    "net.dr2.set_train(False)\n",
    "\n",
    "make_submission(X_test_fin, net)"
   ]
  }
 ],
 "metadata": {
  "kernelspec": {
   "display_name": "Python 3",
   "language": "python",
   "name": "python3"
  },
  "language_info": {
   "codemirror_mode": {
    "name": "ipython",
    "version": 3
   },
   "file_extension": ".py",
   "mimetype": "text/x-python",
   "name": "python",
   "nbconvert_exporter": "python",
   "pygments_lexer": "ipython3",
   "version": "3.6.5"
  }
 },
 "nbformat": 4,
 "nbformat_minor": 2
}
